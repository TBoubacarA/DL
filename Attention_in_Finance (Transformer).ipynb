{
  "cells": [
    {
      "cell_type": "markdown",
      "metadata": {
        "id": "view-in-github"
      },
      "source": [
        "<a href=\"https://colab.research.google.com/github/thad75/TP_ENSEA_ELEVE/blob/main/3A/SIA/TP4/Attention_in_Finance.ipynb\" target=\"_parent\"><img src=\"https://colab.research.google.com/assets/colab-badge.svg\" alt=\"Open In Colab\"/></a>"
      ]
    },
    {
      "cell_type": "code",
      "execution_count": null,
      "metadata": {
        "colab": {
          "base_uri": "https://localhost:8080/",
          "height": 1000
        },
        "id": "0-iNSH47r3uu",
        "outputId": "5d2e7094-763d-4f0b-9a99-1f1ff947eca2"
      },
      "outputs": [
        {
          "name": "stdout",
          "output_type": "stream",
          "text": [
            "Collecting pytorch-lightning\n",
            "  Downloading pytorch_lightning-2.1.2-py3-none-any.whl (776 kB)\n",
            "\u001b[2K     \u001b[90m━━━━━━━━━━━━━━━━━━━━━━━━━━━━━━━━━━━━━━━━\u001b[0m \u001b[32m776.9/776.9 kB\u001b[0m \u001b[31m9.2 MB/s\u001b[0m eta \u001b[36m0:00:00\u001b[0m\n",
            "\u001b[?25hRequirement already satisfied: numpy>=1.17.2 in /usr/local/lib/python3.10/dist-packages (from pytorch-lightning) (1.23.5)\n",
            "Requirement already satisfied: torch>=1.12.0 in /usr/local/lib/python3.10/dist-packages (from pytorch-lightning) (2.1.0+cu118)\n",
            "Requirement already satisfied: tqdm>=4.57.0 in /usr/local/lib/python3.10/dist-packages (from pytorch-lightning) (4.66.1)\n",
            "Requirement already satisfied: PyYAML>=5.4 in /usr/local/lib/python3.10/dist-packages (from pytorch-lightning) (6.0.1)\n",
            "Requirement already satisfied: fsspec[http]>2021.06.0 in /usr/local/lib/python3.10/dist-packages (from pytorch-lightning) (2023.6.0)\n",
            "Collecting torchmetrics>=0.7.0 (from pytorch-lightning)\n",
            "  Downloading torchmetrics-1.2.1-py3-none-any.whl (806 kB)\n",
            "\u001b[2K     \u001b[90m━━━━━━━━━━━━━━━━━━━━━━━━━━━━━━━━━━━━━━━━\u001b[0m \u001b[32m806.1/806.1 kB\u001b[0m \u001b[31m16.2 MB/s\u001b[0m eta \u001b[36m0:00:00\u001b[0m\n",
            "\u001b[?25hRequirement already satisfied: packaging>=20.0 in /usr/local/lib/python3.10/dist-packages (from pytorch-lightning) (23.2)\n",
            "Requirement already satisfied: typing-extensions>=4.0.0 in /usr/local/lib/python3.10/dist-packages (from pytorch-lightning) (4.5.0)\n",
            "Collecting lightning-utilities>=0.8.0 (from pytorch-lightning)\n",
            "  Downloading lightning_utilities-0.10.0-py3-none-any.whl (24 kB)\n",
            "Requirement already satisfied: requests in /usr/local/lib/python3.10/dist-packages (from fsspec[http]>2021.06.0->pytorch-lightning) (2.31.0)\n",
            "Requirement already satisfied: aiohttp!=4.0.0a0,!=4.0.0a1 in /usr/local/lib/python3.10/dist-packages (from fsspec[http]>2021.06.0->pytorch-lightning) (3.9.1)\n",
            "Requirement already satisfied: setuptools in /usr/local/lib/python3.10/dist-packages (from lightning-utilities>=0.8.0->pytorch-lightning) (67.7.2)\n",
            "Requirement already satisfied: filelock in /usr/local/lib/python3.10/dist-packages (from torch>=1.12.0->pytorch-lightning) (3.13.1)\n",
            "Requirement already satisfied: sympy in /usr/local/lib/python3.10/dist-packages (from torch>=1.12.0->pytorch-lightning) (1.12)\n",
            "Requirement already satisfied: networkx in /usr/local/lib/python3.10/dist-packages (from torch>=1.12.0->pytorch-lightning) (3.2.1)\n",
            "Requirement already satisfied: jinja2 in /usr/local/lib/python3.10/dist-packages (from torch>=1.12.0->pytorch-lightning) (3.1.2)\n",
            "Requirement already satisfied: triton==2.1.0 in /usr/local/lib/python3.10/dist-packages (from torch>=1.12.0->pytorch-lightning) (2.1.0)\n",
            "Requirement already satisfied: attrs>=17.3.0 in /usr/local/lib/python3.10/dist-packages (from aiohttp!=4.0.0a0,!=4.0.0a1->fsspec[http]>2021.06.0->pytorch-lightning) (23.1.0)\n",
            "Requirement already satisfied: multidict<7.0,>=4.5 in /usr/local/lib/python3.10/dist-packages (from aiohttp!=4.0.0a0,!=4.0.0a1->fsspec[http]>2021.06.0->pytorch-lightning) (6.0.4)\n",
            "Requirement already satisfied: yarl<2.0,>=1.0 in /usr/local/lib/python3.10/dist-packages (from aiohttp!=4.0.0a0,!=4.0.0a1->fsspec[http]>2021.06.0->pytorch-lightning) (1.9.3)\n",
            "Requirement already satisfied: frozenlist>=1.1.1 in /usr/local/lib/python3.10/dist-packages (from aiohttp!=4.0.0a0,!=4.0.0a1->fsspec[http]>2021.06.0->pytorch-lightning) (1.4.0)\n",
            "Requirement already satisfied: aiosignal>=1.1.2 in /usr/local/lib/python3.10/dist-packages (from aiohttp!=4.0.0a0,!=4.0.0a1->fsspec[http]>2021.06.0->pytorch-lightning) (1.3.1)\n",
            "Requirement already satisfied: async-timeout<5.0,>=4.0 in /usr/local/lib/python3.10/dist-packages (from aiohttp!=4.0.0a0,!=4.0.0a1->fsspec[http]>2021.06.0->pytorch-lightning) (4.0.3)\n",
            "Requirement already satisfied: MarkupSafe>=2.0 in /usr/local/lib/python3.10/dist-packages (from jinja2->torch>=1.12.0->pytorch-lightning) (2.1.3)\n",
            "Requirement already satisfied: charset-normalizer<4,>=2 in /usr/local/lib/python3.10/dist-packages (from requests->fsspec[http]>2021.06.0->pytorch-lightning) (3.3.2)\n",
            "Requirement already satisfied: idna<4,>=2.5 in /usr/local/lib/python3.10/dist-packages (from requests->fsspec[http]>2021.06.0->pytorch-lightning) (3.6)\n",
            "Requirement already satisfied: urllib3<3,>=1.21.1 in /usr/local/lib/python3.10/dist-packages (from requests->fsspec[http]>2021.06.0->pytorch-lightning) (2.0.7)\n",
            "Requirement already satisfied: certifi>=2017.4.17 in /usr/local/lib/python3.10/dist-packages (from requests->fsspec[http]>2021.06.0->pytorch-lightning) (2023.11.17)\n",
            "Requirement already satisfied: mpmath>=0.19 in /usr/local/lib/python3.10/dist-packages (from sympy->torch>=1.12.0->pytorch-lightning) (1.3.0)\n",
            "Installing collected packages: lightning-utilities, torchmetrics, pytorch-lightning\n",
            "Successfully installed lightning-utilities-0.10.0 pytorch-lightning-2.1.2 torchmetrics-1.2.1\n",
            "Collecting wandb\n",
            "  Downloading wandb-0.16.0-py3-none-any.whl (2.1 MB)\n",
            "\u001b[2K     \u001b[90m━━━━━━━━━━━━━━━━━━━━━━━━━━━━━━━━━━━━━━━━\u001b[0m \u001b[32m2.1/2.1 MB\u001b[0m \u001b[31m13.5 MB/s\u001b[0m eta \u001b[36m0:00:00\u001b[0m\n",
            "\u001b[?25hRequirement already satisfied: Click!=8.0.0,>=7.1 in /usr/local/lib/python3.10/dist-packages (from wandb) (8.1.7)\n",
            "Collecting GitPython!=3.1.29,>=1.0.0 (from wandb)\n",
            "  Downloading GitPython-3.1.40-py3-none-any.whl (190 kB)\n",
            "\u001b[2K     \u001b[90m━━━━━━━━━━━━━━━━━━━━━━━━━━━━━━━━━━━━━━━━\u001b[0m \u001b[32m190.6/190.6 kB\u001b[0m \u001b[31m24.0 MB/s\u001b[0m eta \u001b[36m0:00:00\u001b[0m\n",
            "\u001b[?25hRequirement already satisfied: requests<3,>=2.0.0 in /usr/local/lib/python3.10/dist-packages (from wandb) (2.31.0)\n",
            "Requirement already satisfied: psutil>=5.0.0 in /usr/local/lib/python3.10/dist-packages (from wandb) (5.9.5)\n",
            "Collecting sentry-sdk>=1.0.0 (from wandb)\n",
            "  Downloading sentry_sdk-1.38.0-py2.py3-none-any.whl (252 kB)\n",
            "\u001b[2K     \u001b[90m━━━━━━━━━━━━━━━━━━━━━━━━━━━━━━━━━━━━━━━━\u001b[0m \u001b[32m252.8/252.8 kB\u001b[0m \u001b[31m23.3 MB/s\u001b[0m eta \u001b[36m0:00:00\u001b[0m\n",
            "\u001b[?25hCollecting docker-pycreds>=0.4.0 (from wandb)\n",
            "  Downloading docker_pycreds-0.4.0-py2.py3-none-any.whl (9.0 kB)\n",
            "Requirement already satisfied: PyYAML in /usr/local/lib/python3.10/dist-packages (from wandb) (6.0.1)\n",
            "Collecting setproctitle (from wandb)\n",
            "  Downloading setproctitle-1.3.3-cp310-cp310-manylinux_2_5_x86_64.manylinux1_x86_64.manylinux_2_17_x86_64.manylinux2014_x86_64.whl (30 kB)\n",
            "Requirement already satisfied: setuptools in /usr/local/lib/python3.10/dist-packages (from wandb) (67.7.2)\n",
            "Requirement already satisfied: appdirs>=1.4.3 in /usr/local/lib/python3.10/dist-packages (from wandb) (1.4.4)\n",
            "Requirement already satisfied: protobuf!=4.21.0,<5,>=3.19.0 in /usr/local/lib/python3.10/dist-packages (from wandb) (3.20.3)\n",
            "Requirement already satisfied: six>=1.4.0 in /usr/local/lib/python3.10/dist-packages (from docker-pycreds>=0.4.0->wandb) (1.16.0)\n",
            "Collecting gitdb<5,>=4.0.1 (from GitPython!=3.1.29,>=1.0.0->wandb)\n",
            "  Downloading gitdb-4.0.11-py3-none-any.whl (62 kB)\n",
            "\u001b[2K     \u001b[90m━━━━━━━━━━━━━━━━━━━━━━━━━━━━━━━━━━━━━━━━\u001b[0m \u001b[32m62.7/62.7 kB\u001b[0m \u001b[31m9.3 MB/s\u001b[0m eta \u001b[36m0:00:00\u001b[0m\n",
            "\u001b[?25hRequirement already satisfied: charset-normalizer<4,>=2 in /usr/local/lib/python3.10/dist-packages (from requests<3,>=2.0.0->wandb) (3.3.2)\n",
            "Requirement already satisfied: idna<4,>=2.5 in /usr/local/lib/python3.10/dist-packages (from requests<3,>=2.0.0->wandb) (3.6)\n",
            "Requirement already satisfied: urllib3<3,>=1.21.1 in /usr/local/lib/python3.10/dist-packages (from requests<3,>=2.0.0->wandb) (2.0.7)\n",
            "Requirement already satisfied: certifi>=2017.4.17 in /usr/local/lib/python3.10/dist-packages (from requests<3,>=2.0.0->wandb) (2023.11.17)\n",
            "Collecting smmap<6,>=3.0.1 (from gitdb<5,>=4.0.1->GitPython!=3.1.29,>=1.0.0->wandb)\n",
            "  Downloading smmap-5.0.1-py3-none-any.whl (24 kB)\n",
            "Installing collected packages: smmap, setproctitle, sentry-sdk, docker-pycreds, gitdb, GitPython, wandb\n",
            "Successfully installed GitPython-3.1.40 docker-pycreds-0.4.0 gitdb-4.0.11 sentry-sdk-1.38.0 setproctitle-1.3.3 smmap-5.0.1 wandb-0.16.0\n"
          ]
        },
        {
          "data": {
            "application/javascript": [
              "\n",
              "        window._wandbApiKey = new Promise((resolve, reject) => {\n",
              "            function loadScript(url) {\n",
              "            return new Promise(function(resolve, reject) {\n",
              "                let newScript = document.createElement(\"script\");\n",
              "                newScript.onerror = reject;\n",
              "                newScript.onload = resolve;\n",
              "                document.body.appendChild(newScript);\n",
              "                newScript.src = url;\n",
              "            });\n",
              "            }\n",
              "            loadScript(\"https://cdn.jsdelivr.net/npm/postmate/build/postmate.min.js\").then(() => {\n",
              "            const iframe = document.createElement('iframe')\n",
              "            iframe.style.cssText = \"width:0;height:0;border:none\"\n",
              "            document.body.appendChild(iframe)\n",
              "            const handshake = new Postmate({\n",
              "                container: iframe,\n",
              "                url: 'https://wandb.ai/authorize'\n",
              "            });\n",
              "            const timeout = setTimeout(() => reject(\"Couldn't auto authenticate\"), 5000)\n",
              "            handshake.then(function(child) {\n",
              "                child.on('authorize', data => {\n",
              "                    clearTimeout(timeout)\n",
              "                    resolve(data)\n",
              "                });\n",
              "            });\n",
              "            })\n",
              "        });\n",
              "    "
            ],
            "text/plain": [
              "<IPython.core.display.Javascript object>"
            ]
          },
          "metadata": {},
          "output_type": "display_data"
        },
        {
          "name": "stderr",
          "output_type": "stream",
          "text": [
            "\u001b[34m\u001b[1mwandb\u001b[0m: Logging into wandb.ai. (Learn how to deploy a W&B server locally: https://wandb.me/wandb-server)\n",
            "\u001b[34m\u001b[1mwandb\u001b[0m: You can find your API key in your browser here: https://wandb.ai/authorize\n",
            "wandb: Paste an API key from your profile and hit enter, or press ctrl+c to quit:"
          ]
        },
        {
          "name": "stdout",
          "output_type": "stream",
          "text": [
            " ··········\n"
          ]
        },
        {
          "name": "stderr",
          "output_type": "stream",
          "text": [
            "\u001b[34m\u001b[1mwandb\u001b[0m: Appending key for api.wandb.ai to your netrc file: /root/.netrc\n"
          ]
        }
      ],
      "source": [
        "!pip install pytorch-lightning\n",
        "!pip install wandb\n",
        "\n",
        "USE_COLAB = True\n",
        "CONTENT_DIR = \"/content\" if USE_COLAB else \".\"\n",
        "\n",
        "import wandb\n",
        "if not wandb.login():\n",
        "    raise ValueError(\"WandDB authentification failed.\")\n",
        "import torch\n",
        "import torch.nn as nn\n",
        "import torch.nn.functional as F\n",
        "import copy\n",
        "import math\n",
        "from sklearn.model_selection import train_test_split\n",
        "import torchvision\n",
        "import torchvision.transforms as transforms\n",
        "import os\n",
        "import cv2\n",
        "from torch.utils.data import DataLoader\n",
        "from torch.utils.data import Dataset\n",
        "import random\n",
        "import torch.optim as optim\n",
        "import matplotlib.pyplot as plt\n",
        "torch.manual_seed(42)\n",
        "import numpy as np\n",
        "from PIL import Image\n",
        "from torch.utils.data import random_split\n",
        "from torchvision.datasets import MNIST\n",
        "import cv2 as cv\n",
        "from google.colab.patches import cv2_imshow\n",
        "import pytorch_lightning as pl\n",
        "from pytorch_lightning import LightningDataModule, LightningModule, Trainer\n",
        "from typing import Optional, List\n",
        "from sklearn.model_selection import train_test_split\n",
        "import numpy as np\n",
        "from sklearn.preprocessing import MinMaxScaler\n",
        "from pytorch_lightning.loggers import WandbLogger\n",
        "def _get_clones(module, N):\n",
        "    return nn.ModuleList([copy.deepcopy(module) for i in range(N)])"
      ]
    },
    {
      "cell_type": "markdown",
      "metadata": {
        "id": "RAV2huZur75y"
      },
      "source": [
        "# Transformer : A Model Used Everywhere"
      ]
    },
    {
      "cell_type": "markdown",
      "metadata": {
        "id": "aGZZ0bSCsCp8"
      },
      "source": [
        "\n",
        "\n",
        "---\n",
        "\n",
        "\n",
        "Goal of this lab :     \n",
        "\n",
        "\n",
        "*   Understand and code basic Transformer\n",
        "*   Introduction to Finance\n",
        "*  Understand your knowledge of deep learning.\n",
        "* Become Rich ?\n",
        "\n",
        "**Disclaimer : ANY NON ILLUSTRATED ANALYSIS WILL LEAD TO A 0 TO THE GIVEN PART**\n",
        "\n",
        "<img src =\"https://i.imgflip.com/6g1fwb.jpg?a463272\" height = 200>\n",
        "\n",
        "\n",
        "\n",
        "\n",
        "---\n",
        "\n",
        "\n"
      ]
    },
    {
      "cell_type": "markdown",
      "metadata": {
        "id": "1RqzZHrcNQx5"
      },
      "source": [
        "We have seen through multiple labs industrial applications of Deep Learning models in Computer Vision. Now let's look at another task."
      ]
    },
    {
      "cell_type": "markdown",
      "metadata": {
        "id": "g7VWYvDMNpNt"
      },
      "source": [
        "# Transformer : Definitions\n"
      ]
    },
    {
      "cell_type": "markdown",
      "metadata": {
        "id": "t2nagjfnOO9p"
      },
      "source": [
        "## Model\n",
        "\n",
        "\n",
        "The transformer is a  network architecture based on attention mechanisms. It consists of an encoder-decoder architecture:\n",
        "* the encoder maps an input sequence of symbol representations $(x_1,…,x_n)$ to a sequence $z=(z_1,…,z_n)$\n",
        "* the decoder, given $z$ , generates an output sequence $(y_1,…,y_m)$.\n",
        "\n",
        "At each time step, the model consumes the previously generated symbols as additional input when generating the next (it is auto-regressive)\n",
        "\n",
        "<img src=\"https://miro.medium.com/max/1400/1*BHzGVskWGS_3jEcYYi6miQ.png\" width= 400>"
      ]
    },
    {
      "cell_type": "markdown",
      "metadata": {
        "id": "1HJarJb4OuV-"
      },
      "source": [
        "## Positional Encoding\n",
        "\n",
        "Transformers work on a sequence of Data. Order does matter.\n",
        "Example :  \n",
        "\n",
        "\n",
        "> **Vivre pour manger =! Manger pour vivre.**\n",
        "\n",
        "\n",
        "\n",
        "\n",
        "For recurrent networks (RNN, LSTM, GRU), the word positions are implicitly embedded inside the model since they are processed sequentially. The Transformer doesn't process sequentially the input. How can we specify the position of a Token ?\n",
        "The solution of the authors was to add a vector representing the position of the words to the embedding vectors:\n",
        "\n",
        "\n",
        "> **THE POSITIONAL ENCODING**\n",
        "\n",
        "\n"
      ]
    },
    {
      "cell_type": "markdown",
      "metadata": {
        "id": "lQKt23MiP10x"
      },
      "source": [
        "## Attention : The reason of this model\n",
        "\n",
        "Attention , self-attention and multi-head attention are the main component of this model. They let the model know that specific regions or tokens are interesting. They let the model take care of specific parts of the input"
      ]
    },
    {
      "cell_type": "markdown",
      "metadata": {
        "id": "zyBltd6vNIiG"
      },
      "source": [
        "# Finance : Is attention all you need ?\n",
        "\n",
        "In this lab, we will try to create a model able to predict trends in Stock Values. This might be a foundation for a trading bot. We will use a Transformer Encoder to perform this task.\n",
        "\n",
        "Feel free to download any stock you want.\n",
        "Some examples of stock :\n",
        "* S&P500 : https://finance.yahoo.com/quote/%5EGSPC/history?p=%5EGSPC , https://www.investing.com/indices/us-spx-500-historical-data, https://www.nasdaq.com/market-activity/index/spx/historical\n",
        "* Bitcoin : https://finance.yahoo.com/quote/BTC-USD/history?p=BTC-USD\n",
        "* Gold : https://finance.yahoo.com/quote/GC%3DF/history?p=GC%3DF\n",
        "* ...\n",
        "\n",
        "To download your csv file, go on the Historical Data tab, choose a Time Period and Download your file.\n",
        "\n",
        "**Important : Make sure that you have a historical data of a long period of time.**\n",
        "\n"
      ]
    },
    {
      "cell_type": "markdown",
      "metadata": {
        "id": "iMvRTGC20mSu"
      },
      "source": [
        "### I - Time Series : A Different Dataset\n",
        "\n",
        "Time Series are a series of data points indexed by time. We often treat them by sequence of equally spaced points in time."
      ]
    },
    {
      "cell_type": "markdown",
      "metadata": {
        "id": "M7QlOkOU1RY9"
      },
      "source": [
        "#### a - EDA : What Trends in your stock ?\n",
        "\n",
        "Let's read your stock file. As a Data Scientist, you will be asked to explore data before doing anything. Data Exploration is needed for data understanding and preprocessing.\n",
        "* Using Pandas perform a full Exploratory Dataset Analysis.\n",
        "\n",
        "Feel free to read the documentation of each library. It will be needed to perform anything\n",
        "\n",
        "Is expected :\n",
        "* A description of the stock\n",
        "* A summary of the features\n",
        "* What could be the trend for next week ?\n",
        "* Plots of the useful features.\n",
        "* Correlation between features.\n",
        "\n",
        "Some useful libraries :    \n",
        "* To read a csv file : use **pandas** library and read_csv method\n",
        "* **seaborn** is a useful library that processes a pandas dataframe\n",
        "* **matplotlib** is your old friend\n",
        "\n",
        "Some useful methods :    \n",
        "* In pandas :\n",
        "  * head()\n",
        "  * describe()\n",
        "* In seaborn:\n",
        " * displot()\n",
        "\n"
      ]
    },
    {
      "cell_type": "code",
      "execution_count": null,
      "metadata": {
        "id": "gsNFiWHp1NgU"
      },
      "outputs": [],
      "source": [
        "import pandas as pd\n",
        "import seaborn as sns\n",
        "import matplotlib.pyplot as plt\n",
        "\n",
        "df= pd.read_csv(\"/content/BTC-USD.csv\")"
      ]
    },
    {
      "cell_type": "code",
      "execution_count": null,
      "metadata": {
        "colab": {
          "base_uri": "https://localhost:8080/"
        },
        "id": "_LwbsShRSBCV",
        "outputId": "f90e5536-9391-4641-c229-f5522802ee7a"
      },
      "outputs": [
        {
          "name": "stdout",
          "output_type": "stream",
          "text": [
            "            Date          Open          High           Low         Close  \\\n",
            "0     2015-11-30    371.437012    382.363007    370.382996    377.321014   \n",
            "1     2015-12-01    377.414001    378.931000    356.562988    362.488007   \n",
            "2     2015-12-02    361.845001    362.231995    349.464996    359.187012   \n",
            "3     2015-12-03    359.330994    370.274994    357.411987    361.045990   \n",
            "4     2015-12-04    361.261993    363.515991    355.756989    363.183014   \n",
            "...          ...           ...           ...           ...           ...   \n",
            "2918  2023-11-26  37796.828125  37820.300781  37162.750000  37479.121094   \n",
            "2919  2023-11-27  37454.191406  37559.355469  36750.128906  37254.167969   \n",
            "2920  2023-11-28  37247.992188  38368.480469  36891.089844  37831.085938   \n",
            "2921  2023-11-29  37826.105469  38366.113281  37612.632813  37858.492188   \n",
            "2922  2023-11-30  37861.117188  38140.824219  37709.050781  37796.039063   \n",
            "\n",
            "         Adj Close       Volume  \n",
            "0       377.321014     71701600  \n",
            "1       362.488007     60452200  \n",
            "2       359.187012     54160500  \n",
            "3       361.045990     50714900  \n",
            "4       363.183014     35784100  \n",
            "...            ...          ...  \n",
            "2918  37479.121094  13744796068  \n",
            "2919  37254.167969  19002925720  \n",
            "2920  37831.085938  21696137014  \n",
            "2921  37858.492188  20728546658  \n",
            "2922  37796.039063  20638353408  \n",
            "\n",
            "[2923 rows x 7 columns]\n"
          ]
        }
      ],
      "source": [
        "print(df)"
      ]
    },
    {
      "cell_type": "code",
      "execution_count": null,
      "metadata": {
        "colab": {
          "base_uri": "https://localhost:8080/",
          "height": 1000
        },
        "id": "d1HVkhWSbMSK",
        "outputId": "117f314f-984c-46ca-bbd1-516e75a272db"
      },
      "outputs": [
        {
          "data": {
            "image/png": "[encoded data removed]",
            "text/plain": [
              "<Figure size 500x500 with 1 Axes>"
            ]
          },
          "metadata": {},
          "output_type": "display_data"
        },
        {
          "data": {
            "image/png": "[encoded data removed]",
            "text/plain": [
              "<Figure size 500x500 with 1 Axes>"
            ]
          },
          "metadata": {},
          "output_type": "display_data"
        },
        {
          "name": "stderr",
          "output_type": "stream",
          "text": [
            "<ipython-input-5-38ea98293613>:11: FutureWarning: The default value of numeric_only in DataFrame.corr is deprecated. In a future version, it will default to False. Select only valid columns or specify the value of numeric_only to silence this warning.\n",
            "  correlation_matrix = df.corr()\n"
          ]
        },
        {
          "data": {
            "image/png": "[encoded data removed]",
            "text/plain": [
              "<Figure size 640x480 with 2 Axes>"
            ]
          },
          "metadata": {},
          "output_type": "display_data"
        }
      ],
      "source": [
        "# Plotting useful features\n",
        "sns.displot(df['Close'], kde=True)\n",
        "plt.title('Distribution of Closing Prices')\n",
        "plt.show()\n",
        "\n",
        "sns.displot(df['Volume'], kde=True)\n",
        "plt.title('Distribution of Volume')\n",
        "plt.show()\n",
        "\n",
        "# Correlation between features\n",
        "correlation_matrix = df.corr()\n",
        "sns.heatmap(correlation_matrix, annot=True, cmap='coolwarm')\n",
        "plt.title('Correlation Heatmap')\n",
        "plt.show()"
      ]
    },
    {
      "cell_type": "markdown",
      "metadata": {
        "id": "Ya7-5jyUqv-c"
      },
      "source": [
        "#### b - Creating a Stock Dataset\n",
        "\n",
        "As you might have seen, multiple features are available in the dataset. We will use the attention mecanism to process 5 of the given features. We will use the following features :    \n",
        "* Open\n",
        "* High\n",
        "* Low\n",
        "* Close\n",
        "* Volume\n",
        "\n",
        "We are going to create a Dataset that is conform to Pytorch Dataset class.\n",
        "The Dataset should take as input :\n",
        "*    Dataframe(s?)\n",
        "*    $N_{window}$ : length of the sequence\n",
        "\n",
        "\n",
        "We're feeding the model Time Series which are sequential datas. Each data $p_{i}$ is part of a sequence of length $N_{window}$. We want to predict what could happen after that data. We are sending the data thanks to a sliding non overlapping window of size $N_{window}$.\n",
        "\n",
        "In fact, we will be sending $N_{window}$ sequences to the model to learn how to approximate  $f( W_t) \\approx W_{t+1}$ \\\n",
        "where :\n",
        "\n",
        "\n",
        "$W_t = (p_{t_{w}}, p_{t_{w+1}}, \\dots, p_{(t+1)_{w-1}})$\n",
        "\n",
        "We want the dataset to return the following:\n",
        "for\n",
        "\n",
        "*    $N_{window}$ = 3\n",
        "\n",
        "\n",
        "$\\text{Input}_1 = [p_0, p_1, p_2], \\text{Label}_1 = [p_3, p_4, p_5]$ \\\n",
        "\n",
        "\n",
        "$\\text{Input}_3 = [p_6, p_7, p_8], \\text{Label}_3 = [p_9, p_{10}, p_{11}]$\n",
        "\n",
        "__getitem__ method should return a dictionnary where :\n",
        "*   dict['input'] : is a list of $N_{window}$ input values\n",
        "* dict['label'] : is a list of $N_{window}$ target values\n"
      ]
    },
    {
      "cell_type": "code",
      "execution_count": null,
      "metadata": {
        "id": "qRJG6afmrdPD"
      },
      "outputs": [],
      "source": [
        "class StockDataset(Dataset):\n",
        "\n",
        "  def __init__(self, df,N_window,normalized = True,num_steps =1):\n",
        "      self.df = df\n",
        "      self.df.dropna(how='any', axis=0,inplace= True)\n",
        "      self.N_window = N_window\n",
        "      self.num_steps =num_steps\n",
        "      self.normalized = normalized\n",
        "      self.X, self.y = self.process_df()\n",
        "\n",
        "  def process_df(self):\n",
        "      \"\"\"\n",
        "      process method should return X,y:\n",
        "      * X is an array of num_steps*N_windows input values\n",
        "      * y is an array of corresponding target values\n",
        "      \"\"\"\n",
        "      scaler = MinMaxScaler(feature_range=(-1, 1))\n",
        "      data_raw= self.df.to_numpy()\n",
        "      close = self.df['Close'].to_numpy()\n",
        "      open = self.df['Open'].to_numpy()\n",
        "      high = self.df['High'].to_numpy()\n",
        "      low = \tself.df['Low'].to_numpy()\n",
        "      volume = self.df['Volume'].to_numpy()\n",
        "\n",
        "      if self.normalized :\n",
        "        close = scaler.fit_transform(close.reshape(-1, 1))\n",
        "        open = scaler.fit_transform(open.reshape(-1, 1))\n",
        "        high = scaler.fit_transform(high.reshape(-1, 1))\n",
        "        low = \tscaler.fit_transform(low.reshape(-1, 1))\n",
        "        volume = scaler.fit_transform(volume.reshape(-1, 1))\n",
        "\n",
        "      data_raw= np.stack([close,open,high,low,volume])\n",
        "      assert len(close)==len(open)==len(high)==len(low)==len(volume)\n",
        "\n",
        "      # TODO : Create a list of sequences of N_window elements\n",
        "      seq = [data_raw[:, i:i + self.N_window] for i in range(len(close) - self.N_window - self.num_steps + 1)]\n",
        "      # TODO : Return an array of sequences where X is the input values and y the target values\n",
        "      X = np.array([seq[i:i + self.num_steps] for i in range(len(seq) - self.num_steps)])\n",
        "      y = np.array([seq[i + self.num_steps][0][-1] for i in range(len(seq) - self.num_steps)])\n",
        "      return X,y\n",
        "\n",
        "  def __len__(self):\n",
        "      '''\n",
        "      Be careful on your len because of the overlapping issues\n",
        "      '''\n",
        "      # TODO : What is the len of the dataset ?\n",
        "      return len(self.X)\n",
        "\n",
        "  def __getitem__(self,idx):\n",
        "      \"\"\"\n",
        "      __getitem__ method should return a dictionnary where :\n",
        "      * dict['input'] : is a list of num_{steps} lists of N_{window} elements\n",
        "      * dict['label'] : is a list of N_{window} target value\n",
        "      \"\"\"\n",
        "      # TODO : Return one element\n",
        "      x = self.X[idx]\n",
        "      y = self.y[idx]\n",
        "      return {'input': x.squeeze(0),\n",
        "                'label': y}"
      ]
    },
    {
      "cell_type": "code",
      "execution_count": null,
      "metadata": {
        "colab": {
          "base_uri": "https://localhost:8080/"
        },
        "id": "LMP0zRr_VeFd",
        "outputId": "c2a1fffc-3f52-484b-ba1a-3f8eceafe025"
      },
      "outputs": [
        {
          "name": "stdout",
          "output_type": "stream",
          "text": [
            "         Date        Open        High         Low       Close   Adj Close  \\\n",
            "0  2015-11-30  371.437012  382.363007  370.382996  377.321014  377.321014   \n",
            "1  2015-12-01  377.414001  378.931000  356.562988  362.488007  362.488007   \n",
            "2  2015-12-02  361.845001  362.231995  349.464996  359.187012  359.187012   \n",
            "3  2015-12-03  359.330994  370.274994  357.411987  361.045990  361.045990   \n",
            "4  2015-12-04  361.261993  363.515991  355.756989  363.183014  363.183014   \n",
            "\n",
            "     Volume  \n",
            "0  71701600  \n",
            "1  60452200  \n",
            "2  54160500  \n",
            "3  50714900  \n",
            "4  35784100  \n"
          ]
        }
      ],
      "source": [
        "# Your provided DataFrame df\n",
        "print(df.head())"
      ]
    },
    {
      "cell_type": "code",
      "execution_count": null,
      "metadata": {
        "colab": {
          "base_uri": "https://localhost:8080/"
        },
        "id": "tQh8P6nauOUM",
        "outputId": "fc6f976b-1a24-4a71-ac6c-aee714946e3a"
      },
      "outputs": [
        {
          "name": "stdout",
          "output_type": "stream",
          "text": [
            "Length of the dataset: 2919\n",
            "Sample input shape: (5, 3, 1)\n",
            "Sample label: [-0.99994468]\n"
          ]
        }
      ],
      "source": [
        "# TODO : Verify that your Dataset is correct.\n",
        "\n",
        "N_window = 3\n",
        "normalized = True\n",
        "dataset = StockDataset(df = df,\n",
        "                       N_window = N_window,\n",
        "                       normalized = normalized)\n",
        "\n",
        "# Verify the length of the dataset\n",
        "print(\"Length of the dataset:\", len(dataset))\n",
        "\n",
        "# Retrieve a sample from the dataset and inspect its structure\n",
        "sample = dataset[0]  # Replace with any index within the dataset range\n",
        "print(\"Sample input shape:\", sample['input'].shape)\n",
        "print(\"Sample label:\", sample['label'])"
      ]
    },
    {
      "cell_type": "markdown",
      "metadata": {
        "id": "EoD75GvwtfT_"
      },
      "source": [
        "At this moment, each samples will be a dictionnary with a sequence. However, one important feature is hidden in our stock price but we need a proper way to use it.\n",
        "* What feature are we talking about ?\n",
        "\n",
        "\n",
        "The important feature that is typically hidden within stock price data, often vital for technical analysis and predicting future price movements, is the \"Volume.\"\n",
        "\n",
        "Volume refers to the number of shares or contracts traded in a security or market during a given period. It reflects the level of activity or liquidity in a particular asset. High trading volume is often considered a sign of strong market interest in a particular security and can indicate the strength or weakness of a price movement.\n",
        "\n",
        "In the context of stock price prediction or analysis, incorporating volume data alongside price data (Open, High, Low, Close) is crucial for various technical analysis methods, such as volume-based indicators or as a factor in machine learning models.\n",
        "\n",
        "If we're dealing with stock price data, Volume is an essential feature that shouldn't be overlooked when performing analysis or making predictions."
      ]
    },
    {
      "cell_type": "markdown",
      "metadata": {
        "id": "Z3zY-G3SrKxc"
      },
      "source": [
        "#### c- Creating the Lightning DataModule\n",
        "\n",
        "As usual create a Lightning Datamodule that encompasses everything."
      ]
    },
    {
      "cell_type": "code",
      "execution_count": null,
      "metadata": {
        "id": "53MZMTbbrYRT"
      },
      "outputs": [],
      "source": [
        "class StockDataModule(pl.LightningDataModule):\n",
        "    def __init__(self,df,N_window, normalized, batch_size):\n",
        "        super().__init__()\n",
        "        self.df = df\n",
        "        self.N_window = N_window\n",
        "        self.normalized = normalized\n",
        "        self.batch_size = batch_size\n",
        "\n",
        "    def setup(self, stage):\n",
        "        # First stage is 'fit' (or None)\n",
        "\n",
        "        # TODO : Do we shuffle the datasets ? Why ?\n",
        "        X_train, X_test = train_test_split(self.df, shuffle=True)\n",
        "        X_train, X_valid = train_test_split(X_train, shuffle=True)\n",
        "\n",
        "        if stage == \"fit\" or stage is None:\n",
        "            # We create a validation split to watch the training.\n",
        "            # TODO : As usual\n",
        "            self.stock_train =  StockDataset(X_train, self.N_window, self.normalized)\n",
        "            self.stock_valid =  StockDataset(X_valid, self.N_window, self.normalized)\n",
        "\n",
        "        # Second stage is 'test'\n",
        "        if stage == \"test\" or stage is None:\n",
        "            # TODO : As usual\n",
        "            self.stock_test =  StockDataset(X_test, self.N_window, self.normalized)\n",
        "\n",
        "    def train_dataloader(self):\n",
        "        return DataLoader(self.stock_train, batch_size=self.batch_size, shuffle=True)\n",
        "\n",
        "    #def val_dataloader(self):\n",
        "    #    return DataLoader(self.stock_valid, self.batch_size, shuffle=True)\n",
        "    def val_dataloader(self):\n",
        "         return DataLoader(self.stock_valid, batch_size=self.batch_size, shuffle=False)\n",
        "\n",
        "    def test_dataloader(self):\n",
        "        return DataLoader(self.stock_test, batch_size=self.batch_size, shuffle=False)"
      ]
    },
    {
      "cell_type": "code",
      "execution_count": null,
      "metadata": {
        "colab": {
          "background_save": true
        },
        "id": "tpRHAcYNda6M"
      },
      "outputs": [],
      "source": [
        "# TODO : Initialize your datamodule\n",
        "batch_size = 32\n",
        "data_module = StockDataModule(df=df, N_window=N_window, normalized=normalized, batch_size=batch_size)\n"
      ]
    },
    {
      "cell_type": "code",
      "execution_count": null,
      "metadata": {
        "colab": {
          "background_save": true,
          "base_uri": "https://localhost:8080/"
        },
        "id": "Lcj0LCz_axaZ",
        "outputId": "7a145403-a0be-4e34-810b-053eb7f89d17"
      },
      "outputs": [
        {
          "name": "stdout",
          "output_type": "stream",
          "text": [
            "<__main__.StockDataModule object at 0x7b53ecb398a0>\n"
          ]
        }
      ],
      "source": [
        "print(dataset)"
      ]
    },
    {
      "cell_type": "markdown",
      "metadata": {
        "id": "5ilwKU725epE"
      },
      "source": [
        "### II - Positional Encoding : Incorporating Time to the features with Time2Vector\n",
        "\n",
        "Transformers use a posiional encoding to provide a sense of word order in a sequence. However, these positional encodings doesn't provide any sens of time. In that way, Time2Vector is a model-agnostic vector representation for time. The main idea of this vector is that :\n",
        "* a meaningful representation of time has to include both periodic and non-periodic patterns.\n",
        "* a time representation should have an invariance to time rescaling\n"
      ]
    },
    {
      "cell_type": "markdown",
      "metadata": {
        "id": "_Nt2LXf58vHu"
      },
      "source": [
        "\n",
        "Specifically, a Time2Vec Layer is defined as :    \n",
        "<img src =\"data:image/png;base64,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\" width = 400>"
      ]
    },
    {
      "cell_type": "markdown",
      "metadata": {
        "id": "cmokwVTV8lUL"
      },
      "source": [
        "* $\\mathcal{F}$ is a periodic function for e.g. sin or cos\n",
        "* $w_i$, $\\varphi_{i}$   are learnable parameters\n",
        "\n",
        "\n"
      ]
    },
    {
      "cell_type": "markdown",
      "metadata": {
        "id": "dPonGx6A0UWm"
      },
      "source": [
        "Let's create a Time2Vec Layer. We need non-periodic feature and a periodic feature.\n",
        "* To your opinion is there a useless feature to exclude of this time embedding ?\n",
        "* Why ?\n",
        "\n",
        "\n",
        "\n",
        "**Important Disclaimer : Usually we add our positional encoding to our input tensor. However, in our case we will concatenate it.**"
      ]
    },
    {
      "cell_type": "code",
      "execution_count": null,
      "metadata": {
        "colab": {
          "base_uri": "https://localhost:8080/"
        },
        "id": "iW3jL4sE9bDm",
        "outputId": "8cfaca2e-8716-486b-b586-fda14d8c6fbc"
      },
      "outputs": [
        {
          "name": "stdout",
          "output_type": "stream",
          "text": [
            "torch.Size([8, 6, 10])\n"
          ]
        }
      ],
      "source": [
        "class Time2Vector(nn.Module):\n",
        "    def __init__(self, in_features):\n",
        "        super().__init__()\n",
        "        self.in_features = in_features\n",
        "        self.w0 = nn.Parameter(torch.randn(1, 1), requires_grad=True)\n",
        "        self.b0 = nn.Parameter(torch.randn(1, in_features - 1), requires_grad=True)\n",
        "        self.w = nn.Parameter(torch.randn(1, 1), requires_grad=True)\n",
        "        self.b = nn.Parameter(torch.randn(1, in_features - 1), requires_grad=True)\n",
        "        self.f = torch.sin\n",
        "\n",
        "    def forward(self, x):\n",
        "        bs, seq_len, n_feat = x.shape\n",
        "        # Exclude the last feature and compute the mean along the last axis\n",
        "        x = x[:, :, :-1]  # Exclude the last feature\n",
        "        x_mean = torch.mean(x, dim=-1, keepdim=True)  # Compute mean along the last axis\n",
        "\n",
        "        linear = x_mean.matmul(self.w0) + self.b0\n",
        "        W = self.w.repeat(bs, 1, 1)\n",
        "        b = self.b.repeat(bs, 1, 1)\n",
        "        periodic = self.f(x_mean.matmul(W) + b)\n",
        "\n",
        "        return torch.cat([linear, periodic], -1).permute(0, 2, 1)\n",
        "\n",
        "# Verify the output of Time2Vector shape. It should be of shape (Batch Size, Sequence Length, 2)\n",
        "model = Time2Vector(in_features=4)  # Assuming input features is 4\n",
        "input_data = torch.randn(8, 10, 4)  # Example input: batch size = 8, sequence length = 10, features = 4\n",
        "output = model(input_data)\n",
        "print(output.shape)  # Output shape verification"
      ]
    },
    {
      "cell_type": "markdown",
      "metadata": {
        "id": "V0DesvfbB6wD"
      },
      "source": [
        "### III - Transformer : A Big Model around Attention"
      ]
    },
    {
      "cell_type": "markdown",
      "metadata": {
        "id": "XZIMEQz6LZ4u"
      },
      "source": [
        "We are going to build each modules of our Transformer model. The heart of the model resides in the Attention Mecanism. The goal of the Attention mecanism is to force the model to look at specific part of the input. We will build each component of the transformer part by part.\n",
        "\n",
        "\n",
        "Create the different components of the Transformer Encoder :\n",
        "* Attention Module\n",
        "* Multi-Head Attention Module\n",
        "* Transformer Encoder Layer\n",
        "* Transformer Encoder"
      ]
    },
    {
      "cell_type": "markdown",
      "metadata": {
        "id": "G1bU8e0LCUiu"
      },
      "source": [
        "#### a - Attention layer\n",
        "\n",
        "Let's compute the attention layer. We will create a layer that computes Bandhanau's attention also called Dot Scale Product attention. The attention mecanism takes an input $X$ and project it using a set of queries, keys and values. Think of it as a Database which you query (with the queries) using a set of keys, which returns a set values.\n",
        "\n",
        "Mathematicaly speaking, we are computing the scaled dot product between $Q$, $K$, $V$\n",
        "\n",
        "\n",
        "The  attention is :\n",
        "$Attention(Q,K,V)$ =  $Softmax(\\frac{Q*K}{\\sqrt{dim}})$$*V$\n",
        "\n",
        "<img src=\"https://production-media.paperswithcode.com/methods/SCALDE.png\" height = 400>"
      ]
    },
    {
      "cell_type": "code",
      "execution_count": null,
      "metadata": {
        "id": "yoB68E2LDPBP"
      },
      "outputs": [],
      "source": [
        "class Attention(nn.Module):\n",
        "\n",
        "  def __init__(self, dim_query):\n",
        "    super().__init__()\n",
        "    self.dim_query = dim_query\n",
        "\n",
        "\n",
        "  def forward(self,q,k,v):\n",
        "    # TODO : Compute the attention mecanism between q,k,v\n",
        "    attn = torch.bmm(q, k.transpose(1, 2))/math.sqrt(self.dim_query)\n",
        "    attn = F.softmax(attn,-1)\n",
        "    context = torch.bmm(attn, v)\n",
        "    return context, attn"
      ]
    },
    {
      "cell_type": "markdown",
      "metadata": {
        "id": "q24Z5fwECRji"
      },
      "source": [
        "#### b - Multi head Attention\n",
        "\n",
        "Usually, we like creating a Multi-Head Attention layer. Multi-Head only means that we are computing the attention over multiple heads. In fact, instead of having only one function computed by the attention mecanism, we leave each head free to learn a different function. Hence, we will have different outputs each computing a different value.\n",
        "\n",
        "Mathematically speaking :\n",
        "\n",
        "$MultiHead(Q,K,V)=Concat(head_1,…,head_h)W^O$\n",
        "\n",
        "with $head_i=Attention(QW_i^Q,KW_i^K,VW_i^V).$\n",
        "\n",
        "\n",
        "<img src='https://encrypted-tbn0.gstatic.com/images?q=tbn:ANd9GcTv6Bgq7bdnXdT-JDWEnnzK2EM1xY0NUEOyBg&usqp=CAU'>"
      ]
    },
    {
      "cell_type": "markdown",
      "metadata": {
        "id": "Asj6n9anTZ0j"
      },
      "source": [
        " Question :    \n",
        " * What is $W^O$ ? Is it a learned parameter ?\n",
        "\n",
        "$W^O$ is a learned linear transformation applied after concatenating the outputs from different heads. It's a linear layer that processes the concatenated outputs from multiple heads to bring them back to the original feature dimension.\n",
        "In the provided code snippet, WO is represented by self.linear, which is a linear layer used to map the concatenated output of attention heads back to the original feature space dimension."
      ]
    },
    {
      "cell_type": "code",
      "execution_count": null,
      "metadata": {
        "id": "cNzQxfhnFK4F"
      },
      "outputs": [],
      "source": [
        "class MultiHeadAttention(nn.Module):\n",
        "\n",
        "  def __init__(self, embed_dim, dim_query, dim_value,num_heads):\n",
        "        super().__init__()\n",
        "\n",
        "        # Embed dim is the shape of the feature space\n",
        "        self.embed_dim = embed_dim\n",
        "        # Num Heads is the number of heads\n",
        "        self.num_heads = num_heads\n",
        "        self.head_dim = embed_dim // num_heads\n",
        "\n",
        "        self.w_query = nn.Linear(embed_dim, num_heads*dim_query)\n",
        "        self.w_key = nn.Linear(embed_dim, num_heads*dim_query)\n",
        "        self.w_value = nn.Linear(embed_dim, num_heads*dim_value)\n",
        "        self.linear = nn.Linear(num_heads*dim_value, embed_dim)\n",
        "        # Dim Query, Dim Value are the projected dimensions of each tensors\n",
        "        self.attention = Attention(dim_query)\n",
        "\n",
        "\n",
        "  def forward(self, query, key, value):\n",
        "\n",
        "      # TODO : Project your query, key, value into their respective heads\n",
        "      q = self.w_query(query).view(query.size(0), -1, self.num_heads, self.head_dim).transpose(1, 2)\n",
        "      k = self.w_key(key).view(key.size(0), -1, self.num_heads, self.head_dim).transpose(1, 2)\n",
        "      v = self.w_value(value).view(value.size(0), -1, self.num_heads, self.head_dim).transpose(1, 2)\n",
        "      # TODO : Compute the attention\n",
        "      attn_input = (q, k, v)\n",
        "      attn, context  = self.attention(*attn_input)\n",
        "      attn = attn.transpose(1, 2).contiguous().view(attn.size(0), -1, self.embed_dim)\n",
        "      attn = self.linear(attn)\n",
        "      return attn, context"
      ]
    },
    {
      "cell_type": "markdown",
      "metadata": {
        "id": "J9L27Af1C98Y"
      },
      "source": [
        "#### c - Transforming the Transformer\n",
        "\n",
        "So let's create our Transformer model. We will just create the Encoder, as we don't need the Decoder in our case. We are just trying to Encode the input and find interesting patterns.\n",
        "Usually we code the Transformer Model into a specific format :\n",
        "* Layer Class\n",
        "* Model Class\n",
        "\n",
        "<img src=\"https://www.researchgate.net/publication/334288604/figure/fig1/AS:778232232148992@1562556431066/The-Transformer-encoder-structure.ppm\" height=400>"
      ]
    },
    {
      "cell_type": "code",
      "execution_count": null,
      "metadata": {
        "id": "zSo7KRdQPkhS"
      },
      "outputs": [],
      "source": [
        "# TODO : Create one Transformer Encoder Layer\n",
        "class TransformerEncoderLayer(nn.Module):\n",
        "\n",
        "  def __init__(self,embed_dim, dim_query, dim_value, num_heads, dim_feedforward= 256,dropout = 0.1):\n",
        "      super().__init__()\n",
        "      self.attention = MultiHeadAttention(embed_dim,\n",
        "                                          dim_query,\n",
        "                                          dim_value,\n",
        "                                          num_heads)\n",
        "\n",
        "      self.linear= nn.Sequential(nn.Linear(embed_dim, dim_feedforward),\n",
        "                                  nn.ReLU(),\n",
        "                                  nn.Dropout(dropout),\n",
        "                                  nn.ReLU(),\n",
        "                                  nn.Linear(dim_feedforward, embed_dim))\n",
        "\n",
        "      self.norm1 = nn.LayerNorm(embed_dim)\n",
        "      self.norm2 = nn.LayerNorm(embed_dim)\n",
        "      self.dropout1 = nn.Dropout(dropout)\n",
        "      self.dropout2 = nn.Dropout(dropout)\n",
        "\n",
        "\n",
        "\n",
        "  def forward(self, sequence):\n",
        "      q=k=v= sequence.double()\n",
        "      # TODO : Compute the attention\n",
        "      attn, context = ...\n",
        "      sequence = sequence + self.dropout1(attn)\n",
        "      sequence = self.norm1(sequence)\n",
        "      sequence = self.linear(sequence)\n",
        "      sequence = sequence +  self.dropout2(sequence)\n",
        "      sequence = self.norm2(sequence)\n",
        "      return sequence\n",
        "\n",
        "# TODO : Create a Transformer Encoder.\n",
        "class TransformerEncoder(nn.Module):\n",
        "  def __init__(self, encoder_layer, num_layers):\n",
        "          super().__init__()\n",
        "          self.layers = _get_clones(encoder_layer, num_layers)\n",
        "          self.num_layers = num_layers\n",
        "\n",
        "  def forward(self, sequence):\n",
        "        output = sequence.permute(2,0,1)\n",
        "        for layer in self.layers:\n",
        "            # TODO : Send your Input to your transformer\n",
        "            output = layer(output)\n",
        "        return output\n"
      ]
    },
    {
      "cell_type": "markdown",
      "metadata": {
        "id": "OsWa6gmqVPoM"
      },
      "source": [
        "#### Building the entire model\n",
        "\n",
        "Finally let's build the entire model. Let's use Pytorch-Lightning to encompass everything.\n",
        "Normally your model must be composed of three components :\n",
        "* The Transformer\n",
        "* The Time2Vector\n",
        "* A Regression Head\n",
        "\n",
        "As usual ask yourself what task you are performing, how your data should travle trhough the model, what the data is, blablablablalablba\n",
        "\n",
        "Don't forget to use your favorite logger."
      ]
    },
    {
      "cell_type": "code",
      "execution_count": null,
      "metadata": {
        "id": "1M5xOk8FVXtN"
      },
      "outputs": [],
      "source": [
        "class StockModel(pl.LightningModule):\n",
        "    def __init__(self,embed_dim,dim_query,dim_value, num_layers, num_heads, in_features):\n",
        "        super().__init__()\n",
        "        self.save_hyperparameters()\n",
        "        # TODO : Define your model here, be careful, your model will be an instance of the class. Watch  out for the input data.\n",
        "        # TOOD : Define your Encoder Layer\n",
        "        encoder_layer = TransformerEncoderLayer(embed_dim = embed_dim, # TODO : What should be the hidden dim ?\n",
        "                                                dim_query = dim_query,\n",
        "                                                dim_value = dim_value,\n",
        "                                                num_heads = num_heads,\n",
        "                                                dim_feedforward= 256,\n",
        "                                                dropout = 0.1)\n",
        "\n",
        "        # TODO : Initialize your Transformer\n",
        "        self.transformer = TransformerEncoder(encoder_layer =encoder_layer,\n",
        "                                              num_layers = num_layers)\n",
        "        # TODO : Initialize your regression head\n",
        "        self.head = nn.Linear(embed_dim + in_features, 1) # What is your input hidden dim, output hidden dim ? Don't forget your time embedding\n",
        "        # TODO : Initialize your Time2Vector Embeddings\n",
        "        self.timeencoder = Time2Vector(in_features) # What is the in_features dimension ? Is it the same as the input ?\n",
        "\n",
        "\n",
        "    def forward(self, x):\n",
        "        bs, _, seq_len = x.shape\n",
        "        pos = x.permute(0, 2, 1)\n",
        "        time_vec = self.timeencoder(pos)\n",
        "\n",
        "        # Ensure both x and time_vec are on the same device\n",
        "        device = x.device\n",
        "\n",
        "        # Move time_vec to the same device as x\n",
        "        time_vec = time_vec.to(device)\n",
        "\n",
        "        # Repeat time_vec to match the batch size and sequence length\n",
        "        time_vec = time_vec.unsqueeze(0).repeat(bs, 1, 1, 1)  # Repeat to match the batch size and sequence length\n",
        "\n",
        "        # Concatenate x and time_vec along the batch dimension (dim=0)\n",
        "        x = torch.cat((x, time_vec), dim=1)  # Concatenate along the feature dimension\n",
        "\n",
        "        x = self.transformer(x)\n",
        "        x = x.view(bs * seq_len, -1)\n",
        "        x = self.head(x)\n",
        "        x = x.view(bs, -1, seq_len)\n",
        "        return x\n",
        "\n",
        "\n",
        "    def configure_optimizers(self):\n",
        "        optimizer = optim.SGD(self.parameters(), lr=0.001, momentum=0.9)\n",
        "        return optimizer\n",
        "\n",
        "\n",
        "    def training_step(self, batch, batch_idx):\n",
        "        # TODO : Define your Training Step\n",
        "        X,y = batch['input'], batch['label']\n",
        "        out = self.forward(X)\n",
        "        loss = F.mse_loss(out, y)\n",
        "        # Don't remove the next line, you will understand why later\n",
        "        self.log('train_loss', loss)\n",
        "        return loss\n",
        "\n",
        "\n",
        "    def validation_step(self, batch, batch_idx):\n",
        "        # TODO : Define your Validation Step\n",
        "        X,y = batch['input'], batch['label']\n",
        "        out = self.forward(X)\n",
        "        loss = F.mse_loss(out, y)\n",
        "        # Don't remove the next line, you will understand why later\n",
        "        self.log('val_loss', loss)\n",
        "\n",
        "    def test_step(self, batch, batch_idx):\n",
        "        # TODO : Define your Test Step\n",
        "        X,y = batch['input'], batch['label']\n",
        "        out = self.forward(X)\n",
        "        loss = F.mse_loss(out, y)\n",
        "        self.log('test_loss', loss)"
      ]
    },
    {
      "cell_type": "markdown",
      "metadata": {
        "id": "rNs5inW6Xt_a"
      },
      "source": [
        "## IV - Training the Model\n",
        "\n",
        "* Initialize a model with 3 stacks of Encoder with 8 heads.\n",
        "* What is the Embed Dimension ?\n",
        "* What is the Dimension of a Query, Key and Value ?\n",
        "\n",
        "\n",
        "In a Transformer model, the dimensions of queries, keys, and values are usually determined based on the embed dimension and the number of attention heads.\n",
        "\n",
        "For a model with 3 stacks of Encoder with 8 heads, the embed dimension can be chosen based on the complexity and size of your data. A common practice is to set it as a multiple of the number of attention heads. Let's choose an embed_dim of 256 in this case.\n",
        "\n",
        "The dimension of a query, key, and value for each head can be calculated as the total embed dimension divided by the number of attention heads. In this scenario, it would be:\n",
        "\n",
        "embed_dim = 256\n",
        "num_heads = 8\n",
        "Thus,\n",
        "\n",
        "dim_query = dim_value = embed_dim / num_heads = 256 / 8 = 32"
      ]
    },
    {
      "cell_type": "code",
      "execution_count": null,
      "metadata": {
        "colab": {
          "base_uri": "https://localhost:8080/",
          "height": 90
        },
        "id": "8HXr5PLUXupy",
        "outputId": "c8a99eaa-7b5f-4671-b632-b4348e413ebe"
      },
      "outputs": [
        {
          "name": "stderr",
          "output_type": "stream",
          "text": [
            "INFO:pytorch_lightning.utilities.rank_zero:GPU available: True (cuda), used: True\n",
            "INFO:pytorch_lightning.utilities.rank_zero:TPU available: False, using: 0 TPU cores\n",
            "INFO:pytorch_lightning.utilities.rank_zero:IPU available: False, using: 0 IPUs\n",
            "INFO:pytorch_lightning.utilities.rank_zero:HPU available: False, using: 0 HPUs\n"
          ]
        }
      ],
      "source": [
        "# TODO : Initalize Model, Datamodule and Trainer\n",
        "embed_dim = 256\n",
        "num_heads = 8\n",
        "dim_query = embed_dim // num_heads\n",
        "dim_value = dim_query\n",
        "num_layers = 3\n",
        "in_features = df.shape[1]\n",
        "\n",
        "# Initialize the model\n",
        "model = StockModel(embed_dim=embed_dim,\n",
        "                   dim_query=dim_query,\n",
        "                   dim_value=dim_value,\n",
        "                   num_layers=num_layers,\n",
        "                   num_heads=num_heads,\n",
        "                   in_features=in_features).double()\n",
        "\n",
        "# Initialize the DataModule (Replace ... with your actual configurations)\n",
        "dm = StockDataModule(df=df, N_window=3, normalized=True, batch_size=32)\n",
        "\n",
        "# Initialize the Trainer (Replace ... with your actual configurations)\n",
        "trainer = pl.Trainer(max_epochs=10, accelerator='gpu')"
      ]
    },
    {
      "cell_type": "code",
      "execution_count": null,
      "metadata": {
        "colab": {
          "base_uri": "https://localhost:8080/",
          "height": 658,
          "referenced_widgets": [
            "2aad90782b80420c8e25b1e98b7d0821",
            "03b0d16a10df499299605d96b9887b14",
            "44369706426548b688b72d9bfe7f16a0",
            "9ae20a2022a5410280abb627e493628a",
            "6be4c68fbe7741cb810406e3c742df00",
            "a922b94310fd48bf8f03b2600ce17226",
            "131ebbe7440d4158b1a9806ebba40cc0",
            "e48073214c464c0a88fca292b86a9bee",
            "a428528abbe146e5990a9d8aa6ca0c01",
            "992bb60e75fc4e798ace70ed65542225",
            "32d7ff51711f4a3783858d4dd1755fb2"
          ]
        },
        "id": "DPXG6HUEe2Qv",
        "outputId": "2e1dbe9e-d413-4d9f-de41-4c778fc968d4"
      },
      "outputs": [
        {
          "name": "stderr",
          "output_type": "stream",
          "text": [
            "INFO:pytorch_lightning.accelerators.cuda:LOCAL_RANK: 0 - CUDA_VISIBLE_DEVICES: [0]\n",
            "INFO:pytorch_lightning.callbacks.model_summary:\n",
            "  | Name        | Type               | Params\n",
            "---------------------------------------------------\n",
            "0 | transformer | TransformerEncoder | 1.2 M \n",
            "1 | head        | Linear             | 264   \n",
            "2 | timeencoder | Time2Vector        | 14    \n",
            "---------------------------------------------------\n",
            "1.2 M     Trainable params\n",
            "0         Non-trainable params\n",
            "1.2 M     Total params\n",
            "4.750     Total estimated model params size (MB)\n"
          ]
        },
        {
          "data": {
            "application/vnd.jupyter.widget-view+json": {
              "model_id": "2aad90782b80420c8e25b1e98b7d0821",
              "version_major": 2,
              "version_minor": 0
            },
            "text/plain": [
              "Sanity Checking: |          | 0/? [00:00<?, ?it/s]"
            ]
          },
          "metadata": {},
          "output_type": "display_data"
        },
        {
          "name": "stderr",
          "output_type": "stream",
          "text": [
            "/usr/local/lib/python3.10/dist-packages/pytorch_lightning/trainer/connectors/data_connector.py:492: Your `val_dataloader`'s sampler has shuffling enabled, it is strongly recommended that you turn shuffling off for val/test dataloaders.\n",
            "/usr/local/lib/python3.10/dist-packages/pytorch_lightning/trainer/connectors/data_connector.py:441: The 'val_dataloader' does not have many workers which may be a bottleneck. Consider increasing the value of the `num_workers` argument` to `num_workers=1` in the `DataLoader` to improve performance.\n"
          ]
        },
        {
          "ename": "RuntimeError",
          "evalue": "ignored",
          "output_type": "error",
          "traceback": [
            "\u001b[0;31m---------------------------------------------------------------------------\u001b[0m",
            "\u001b[0;31mRuntimeError\u001b[0m                              Traceback (most recent call last)",
            "\u001b[0;32m<ipython-input-111-5d71765bec7e>\u001b[0m in \u001b[0;36m<cell line: 2>\u001b[0;34m()\u001b[0m\n\u001b[1;32m      1\u001b[0m \u001b[0;31m# TODO : Fit the Data to the Model\u001b[0m\u001b[0;34m\u001b[0m\u001b[0;34m\u001b[0m\u001b[0m\n\u001b[0;32m----> 2\u001b[0;31m \u001b[0mtrainer\u001b[0m\u001b[0;34m.\u001b[0m\u001b[0mfit\u001b[0m\u001b[0;34m(\u001b[0m\u001b[0mmodel\u001b[0m\u001b[0;34m,\u001b[0m \u001b[0mdm\u001b[0m\u001b[0;34m)\u001b[0m\u001b[0;34m\u001b[0m\u001b[0;34m\u001b[0m\u001b[0m\n\u001b[0m",
            "\u001b[0;32m/usr/local/lib/python3.10/dist-packages/pytorch_lightning/trainer/trainer.py\u001b[0m in \u001b[0;36mfit\u001b[0;34m(self, model, train_dataloaders, val_dataloaders, datamodule, ckpt_path)\u001b[0m\n\u001b[1;32m    542\u001b[0m         \u001b[0mself\u001b[0m\u001b[0;34m.\u001b[0m\u001b[0mstate\u001b[0m\u001b[0;34m.\u001b[0m\u001b[0mstatus\u001b[0m \u001b[0;34m=\u001b[0m \u001b[0mTrainerStatus\u001b[0m\u001b[0;34m.\u001b[0m\u001b[0mRUNNING\u001b[0m\u001b[0;34m\u001b[0m\u001b[0;34m\u001b[0m\u001b[0m\n\u001b[1;32m    543\u001b[0m         \u001b[0mself\u001b[0m\u001b[0;34m.\u001b[0m\u001b[0mtraining\u001b[0m \u001b[0;34m=\u001b[0m \u001b[0;32mTrue\u001b[0m\u001b[0;34m\u001b[0m\u001b[0;34m\u001b[0m\u001b[0m\n\u001b[0;32m--> 544\u001b[0;31m         call._call_and_handle_interrupt(\n\u001b[0m\u001b[1;32m    545\u001b[0m             \u001b[0mself\u001b[0m\u001b[0;34m,\u001b[0m \u001b[0mself\u001b[0m\u001b[0;34m.\u001b[0m\u001b[0m_fit_impl\u001b[0m\u001b[0;34m,\u001b[0m \u001b[0mmodel\u001b[0m\u001b[0;34m,\u001b[0m \u001b[0mtrain_dataloaders\u001b[0m\u001b[0;34m,\u001b[0m \u001b[0mval_dataloaders\u001b[0m\u001b[0;34m,\u001b[0m \u001b[0mdatamodule\u001b[0m\u001b[0;34m,\u001b[0m \u001b[0mckpt_path\u001b[0m\u001b[0;34m\u001b[0m\u001b[0;34m\u001b[0m\u001b[0m\n\u001b[1;32m    546\u001b[0m         )\n",
            "\u001b[0;32m/usr/local/lib/python3.10/dist-packages/pytorch_lightning/trainer/call.py\u001b[0m in \u001b[0;36m_call_and_handle_interrupt\u001b[0;34m(trainer, trainer_fn, *args, **kwargs)\u001b[0m\n\u001b[1;32m     42\u001b[0m         \u001b[0;32mif\u001b[0m \u001b[0mtrainer\u001b[0m\u001b[0;34m.\u001b[0m\u001b[0mstrategy\u001b[0m\u001b[0;34m.\u001b[0m\u001b[0mlauncher\u001b[0m \u001b[0;32mis\u001b[0m \u001b[0;32mnot\u001b[0m \u001b[0;32mNone\u001b[0m\u001b[0;34m:\u001b[0m\u001b[0;34m\u001b[0m\u001b[0;34m\u001b[0m\u001b[0m\n\u001b[1;32m     43\u001b[0m             \u001b[0;32mreturn\u001b[0m \u001b[0mtrainer\u001b[0m\u001b[0;34m.\u001b[0m\u001b[0mstrategy\u001b[0m\u001b[0;34m.\u001b[0m\u001b[0mlauncher\u001b[0m\u001b[0;34m.\u001b[0m\u001b[0mlaunch\u001b[0m\u001b[0;34m(\u001b[0m\u001b[0mtrainer_fn\u001b[0m\u001b[0;34m,\u001b[0m \u001b[0;34m*\u001b[0m\u001b[0margs\u001b[0m\u001b[0;34m,\u001b[0m \u001b[0mtrainer\u001b[0m\u001b[0;34m=\u001b[0m\u001b[0mtrainer\u001b[0m\u001b[0;34m,\u001b[0m \u001b[0;34m**\u001b[0m\u001b[0mkwargs\u001b[0m\u001b[0;34m)\u001b[0m\u001b[0;34m\u001b[0m\u001b[0;34m\u001b[0m\u001b[0m\n\u001b[0;32m---> 44\u001b[0;31m         \u001b[0;32mreturn\u001b[0m \u001b[0mtrainer_fn\u001b[0m\u001b[0;34m(\u001b[0m\u001b[0;34m*\u001b[0m\u001b[0margs\u001b[0m\u001b[0;34m,\u001b[0m \u001b[0;34m**\u001b[0m\u001b[0mkwargs\u001b[0m\u001b[0;34m)\u001b[0m\u001b[0;34m\u001b[0m\u001b[0;34m\u001b[0m\u001b[0m\n\u001b[0m\u001b[1;32m     45\u001b[0m \u001b[0;34m\u001b[0m\u001b[0m\n\u001b[1;32m     46\u001b[0m     \u001b[0;32mexcept\u001b[0m \u001b[0m_TunerExitException\u001b[0m\u001b[0;34m:\u001b[0m\u001b[0;34m\u001b[0m\u001b[0;34m\u001b[0m\u001b[0m\n",
            "\u001b[0;32m/usr/local/lib/python3.10/dist-packages/pytorch_lightning/trainer/trainer.py\u001b[0m in \u001b[0;36m_fit_impl\u001b[0;34m(self, model, train_dataloaders, val_dataloaders, datamodule, ckpt_path)\u001b[0m\n\u001b[1;32m    578\u001b[0m             \u001b[0mmodel_connected\u001b[0m\u001b[0;34m=\u001b[0m\u001b[0mself\u001b[0m\u001b[0;34m.\u001b[0m\u001b[0mlightning_module\u001b[0m \u001b[0;32mis\u001b[0m \u001b[0;32mnot\u001b[0m \u001b[0;32mNone\u001b[0m\u001b[0;34m,\u001b[0m\u001b[0;34m\u001b[0m\u001b[0;34m\u001b[0m\u001b[0m\n\u001b[1;32m    579\u001b[0m         )\n\u001b[0;32m--> 580\u001b[0;31m         \u001b[0mself\u001b[0m\u001b[0;34m.\u001b[0m\u001b[0m_run\u001b[0m\u001b[0;34m(\u001b[0m\u001b[0mmodel\u001b[0m\u001b[0;34m,\u001b[0m \u001b[0mckpt_path\u001b[0m\u001b[0;34m=\u001b[0m\u001b[0mckpt_path\u001b[0m\u001b[0;34m)\u001b[0m\u001b[0;34m\u001b[0m\u001b[0;34m\u001b[0m\u001b[0m\n\u001b[0m\u001b[1;32m    581\u001b[0m \u001b[0;34m\u001b[0m\u001b[0m\n\u001b[1;32m    582\u001b[0m         \u001b[0;32massert\u001b[0m \u001b[0mself\u001b[0m\u001b[0;34m.\u001b[0m\u001b[0mstate\u001b[0m\u001b[0;34m.\u001b[0m\u001b[0mstopped\u001b[0m\u001b[0;34m\u001b[0m\u001b[0;34m\u001b[0m\u001b[0m\n",
            "\u001b[0;32m/usr/local/lib/python3.10/dist-packages/pytorch_lightning/trainer/trainer.py\u001b[0m in \u001b[0;36m_run\u001b[0;34m(self, model, ckpt_path)\u001b[0m\n\u001b[1;32m    987\u001b[0m         \u001b[0;31m# RUN THE TRAINER\u001b[0m\u001b[0;34m\u001b[0m\u001b[0;34m\u001b[0m\u001b[0m\n\u001b[1;32m    988\u001b[0m         \u001b[0;31m# ----------------------------\u001b[0m\u001b[0;34m\u001b[0m\u001b[0;34m\u001b[0m\u001b[0m\n\u001b[0;32m--> 989\u001b[0;31m         \u001b[0mresults\u001b[0m \u001b[0;34m=\u001b[0m \u001b[0mself\u001b[0m\u001b[0;34m.\u001b[0m\u001b[0m_run_stage\u001b[0m\u001b[0;34m(\u001b[0m\u001b[0;34m)\u001b[0m\u001b[0;34m\u001b[0m\u001b[0;34m\u001b[0m\u001b[0m\n\u001b[0m\u001b[1;32m    990\u001b[0m \u001b[0;34m\u001b[0m\u001b[0m\n\u001b[1;32m    991\u001b[0m         \u001b[0;31m# ----------------------------\u001b[0m\u001b[0;34m\u001b[0m\u001b[0;34m\u001b[0m\u001b[0m\n",
            "\u001b[0;32m/usr/local/lib/python3.10/dist-packages/pytorch_lightning/trainer/trainer.py\u001b[0m in \u001b[0;36m_run_stage\u001b[0;34m(self)\u001b[0m\n\u001b[1;32m   1031\u001b[0m         \u001b[0;32mif\u001b[0m \u001b[0mself\u001b[0m\u001b[0;34m.\u001b[0m\u001b[0mtraining\u001b[0m\u001b[0;34m:\u001b[0m\u001b[0;34m\u001b[0m\u001b[0;34m\u001b[0m\u001b[0m\n\u001b[1;32m   1032\u001b[0m             \u001b[0;32mwith\u001b[0m \u001b[0misolate_rng\u001b[0m\u001b[0;34m(\u001b[0m\u001b[0;34m)\u001b[0m\u001b[0;34m:\u001b[0m\u001b[0;34m\u001b[0m\u001b[0;34m\u001b[0m\u001b[0m\n\u001b[0;32m-> 1033\u001b[0;31m                 \u001b[0mself\u001b[0m\u001b[0;34m.\u001b[0m\u001b[0m_run_sanity_check\u001b[0m\u001b[0;34m(\u001b[0m\u001b[0;34m)\u001b[0m\u001b[0;34m\u001b[0m\u001b[0;34m\u001b[0m\u001b[0m\n\u001b[0m\u001b[1;32m   1034\u001b[0m             \u001b[0;32mwith\u001b[0m \u001b[0mtorch\u001b[0m\u001b[0;34m.\u001b[0m\u001b[0mautograd\u001b[0m\u001b[0;34m.\u001b[0m\u001b[0mset_detect_anomaly\u001b[0m\u001b[0;34m(\u001b[0m\u001b[0mself\u001b[0m\u001b[0;34m.\u001b[0m\u001b[0m_detect_anomaly\u001b[0m\u001b[0;34m)\u001b[0m\u001b[0;34m:\u001b[0m\u001b[0;34m\u001b[0m\u001b[0;34m\u001b[0m\u001b[0m\n\u001b[1;32m   1035\u001b[0m                 \u001b[0mself\u001b[0m\u001b[0;34m.\u001b[0m\u001b[0mfit_loop\u001b[0m\u001b[0;34m.\u001b[0m\u001b[0mrun\u001b[0m\u001b[0;34m(\u001b[0m\u001b[0;34m)\u001b[0m\u001b[0;34m\u001b[0m\u001b[0;34m\u001b[0m\u001b[0m\n",
            "\u001b[0;32m/usr/local/lib/python3.10/dist-packages/pytorch_lightning/trainer/trainer.py\u001b[0m in \u001b[0;36m_run_sanity_check\u001b[0;34m(self)\u001b[0m\n\u001b[1;32m   1060\u001b[0m \u001b[0;34m\u001b[0m\u001b[0m\n\u001b[1;32m   1061\u001b[0m             \u001b[0;31m# run eval step\u001b[0m\u001b[0;34m\u001b[0m\u001b[0;34m\u001b[0m\u001b[0m\n\u001b[0;32m-> 1062\u001b[0;31m             \u001b[0mval_loop\u001b[0m\u001b[0;34m.\u001b[0m\u001b[0mrun\u001b[0m\u001b[0;34m(\u001b[0m\u001b[0;34m)\u001b[0m\u001b[0;34m\u001b[0m\u001b[0;34m\u001b[0m\u001b[0m\n\u001b[0m\u001b[1;32m   1063\u001b[0m \u001b[0;34m\u001b[0m\u001b[0m\n\u001b[1;32m   1064\u001b[0m             \u001b[0mcall\u001b[0m\u001b[0;34m.\u001b[0m\u001b[0m_call_callback_hooks\u001b[0m\u001b[0;34m(\u001b[0m\u001b[0mself\u001b[0m\u001b[0;34m,\u001b[0m \u001b[0;34m\"on_sanity_check_end\"\u001b[0m\u001b[0;34m)\u001b[0m\u001b[0;34m\u001b[0m\u001b[0;34m\u001b[0m\u001b[0m\n",
            "\u001b[0;32m/usr/local/lib/python3.10/dist-packages/pytorch_lightning/loops/utilities.py\u001b[0m in \u001b[0;36m_decorator\u001b[0;34m(self, *args, **kwargs)\u001b[0m\n\u001b[1;32m    180\u001b[0m             \u001b[0mcontext_manager\u001b[0m \u001b[0;34m=\u001b[0m \u001b[0mtorch\u001b[0m\u001b[0;34m.\u001b[0m\u001b[0mno_grad\u001b[0m\u001b[0;34m\u001b[0m\u001b[0;34m\u001b[0m\u001b[0m\n\u001b[1;32m    181\u001b[0m         \u001b[0;32mwith\u001b[0m \u001b[0mcontext_manager\u001b[0m\u001b[0;34m(\u001b[0m\u001b[0;34m)\u001b[0m\u001b[0;34m:\u001b[0m\u001b[0;34m\u001b[0m\u001b[0;34m\u001b[0m\u001b[0m\n\u001b[0;32m--> 182\u001b[0;31m             \u001b[0;32mreturn\u001b[0m \u001b[0mloop_run\u001b[0m\u001b[0;34m(\u001b[0m\u001b[0mself\u001b[0m\u001b[0;34m,\u001b[0m \u001b[0;34m*\u001b[0m\u001b[0margs\u001b[0m\u001b[0;34m,\u001b[0m \u001b[0;34m**\u001b[0m\u001b[0mkwargs\u001b[0m\u001b[0;34m)\u001b[0m\u001b[0;34m\u001b[0m\u001b[0;34m\u001b[0m\u001b[0m\n\u001b[0m\u001b[1;32m    183\u001b[0m \u001b[0;34m\u001b[0m\u001b[0m\n\u001b[1;32m    184\u001b[0m     \u001b[0;32mreturn\u001b[0m \u001b[0m_decorator\u001b[0m\u001b[0;34m\u001b[0m\u001b[0;34m\u001b[0m\u001b[0m\n",
            "\u001b[0;32m/usr/local/lib/python3.10/dist-packages/pytorch_lightning/loops/evaluation_loop.py\u001b[0m in \u001b[0;36mrun\u001b[0;34m(self)\u001b[0m\n\u001b[1;32m    132\u001b[0m                 \u001b[0mself\u001b[0m\u001b[0;34m.\u001b[0m\u001b[0mbatch_progress\u001b[0m\u001b[0;34m.\u001b[0m\u001b[0mis_last_batch\u001b[0m \u001b[0;34m=\u001b[0m \u001b[0mdata_fetcher\u001b[0m\u001b[0;34m.\u001b[0m\u001b[0mdone\u001b[0m\u001b[0;34m\u001b[0m\u001b[0;34m\u001b[0m\u001b[0m\n\u001b[1;32m    133\u001b[0m                 \u001b[0;31m# run step hooks\u001b[0m\u001b[0;34m\u001b[0m\u001b[0;34m\u001b[0m\u001b[0m\n\u001b[0;32m--> 134\u001b[0;31m                 \u001b[0mself\u001b[0m\u001b[0;34m.\u001b[0m\u001b[0m_evaluation_step\u001b[0m\u001b[0;34m(\u001b[0m\u001b[0mbatch\u001b[0m\u001b[0;34m,\u001b[0m \u001b[0mbatch_idx\u001b[0m\u001b[0;34m,\u001b[0m \u001b[0mdataloader_idx\u001b[0m\u001b[0;34m,\u001b[0m \u001b[0mdataloader_iter\u001b[0m\u001b[0;34m)\u001b[0m\u001b[0;34m\u001b[0m\u001b[0;34m\u001b[0m\u001b[0m\n\u001b[0m\u001b[1;32m    135\u001b[0m             \u001b[0;32mexcept\u001b[0m \u001b[0mStopIteration\u001b[0m\u001b[0;34m:\u001b[0m\u001b[0;34m\u001b[0m\u001b[0;34m\u001b[0m\u001b[0m\n\u001b[1;32m    136\u001b[0m                 \u001b[0;31m# this needs to wrap the `*_step` call too (not just `next`) for `dataloader_iter` support\u001b[0m\u001b[0;34m\u001b[0m\u001b[0;34m\u001b[0m\u001b[0m\n",
            "\u001b[0;32m/usr/local/lib/python3.10/dist-packages/pytorch_lightning/loops/evaluation_loop.py\u001b[0m in \u001b[0;36m_evaluation_step\u001b[0;34m(self, batch, batch_idx, dataloader_idx, dataloader_iter)\u001b[0m\n\u001b[1;32m    389\u001b[0m             \u001b[0;32melse\u001b[0m \u001b[0;34m(\u001b[0m\u001b[0mdataloader_iter\u001b[0m\u001b[0;34m,\u001b[0m\u001b[0;34m)\u001b[0m\u001b[0;34m\u001b[0m\u001b[0;34m\u001b[0m\u001b[0m\n\u001b[1;32m    390\u001b[0m         )\n\u001b[0;32m--> 391\u001b[0;31m         \u001b[0moutput\u001b[0m \u001b[0;34m=\u001b[0m \u001b[0mcall\u001b[0m\u001b[0;34m.\u001b[0m\u001b[0m_call_strategy_hook\u001b[0m\u001b[0;34m(\u001b[0m\u001b[0mtrainer\u001b[0m\u001b[0;34m,\u001b[0m \u001b[0mhook_name\u001b[0m\u001b[0;34m,\u001b[0m \u001b[0;34m*\u001b[0m\u001b[0mstep_args\u001b[0m\u001b[0;34m)\u001b[0m\u001b[0;34m\u001b[0m\u001b[0;34m\u001b[0m\u001b[0m\n\u001b[0m\u001b[1;32m    392\u001b[0m \u001b[0;34m\u001b[0m\u001b[0m\n\u001b[1;32m    393\u001b[0m         \u001b[0mself\u001b[0m\u001b[0;34m.\u001b[0m\u001b[0mbatch_progress\u001b[0m\u001b[0;34m.\u001b[0m\u001b[0mincrement_processed\u001b[0m\u001b[0;34m(\u001b[0m\u001b[0;34m)\u001b[0m\u001b[0;34m\u001b[0m\u001b[0;34m\u001b[0m\u001b[0m\n",
            "\u001b[0;32m/usr/local/lib/python3.10/dist-packages/pytorch_lightning/trainer/call.py\u001b[0m in \u001b[0;36m_call_strategy_hook\u001b[0;34m(trainer, hook_name, *args, **kwargs)\u001b[0m\n\u001b[1;32m    307\u001b[0m \u001b[0;34m\u001b[0m\u001b[0m\n\u001b[1;32m    308\u001b[0m     \u001b[0;32mwith\u001b[0m \u001b[0mtrainer\u001b[0m\u001b[0;34m.\u001b[0m\u001b[0mprofiler\u001b[0m\u001b[0;34m.\u001b[0m\u001b[0mprofile\u001b[0m\u001b[0;34m(\u001b[0m\u001b[0;34mf\"[Strategy]{trainer.strategy.__class__.__name__}.{hook_name}\"\u001b[0m\u001b[0;34m)\u001b[0m\u001b[0;34m:\u001b[0m\u001b[0;34m\u001b[0m\u001b[0;34m\u001b[0m\u001b[0m\n\u001b[0;32m--> 309\u001b[0;31m         \u001b[0moutput\u001b[0m \u001b[0;34m=\u001b[0m \u001b[0mfn\u001b[0m\u001b[0;34m(\u001b[0m\u001b[0;34m*\u001b[0m\u001b[0margs\u001b[0m\u001b[0;34m,\u001b[0m \u001b[0;34m**\u001b[0m\u001b[0mkwargs\u001b[0m\u001b[0;34m)\u001b[0m\u001b[0;34m\u001b[0m\u001b[0;34m\u001b[0m\u001b[0m\n\u001b[0m\u001b[1;32m    310\u001b[0m \u001b[0;34m\u001b[0m\u001b[0m\n\u001b[1;32m    311\u001b[0m     \u001b[0;31m# restore current_fx when nested context\u001b[0m\u001b[0;34m\u001b[0m\u001b[0;34m\u001b[0m\u001b[0m\n",
            "\u001b[0;32m/usr/local/lib/python3.10/dist-packages/pytorch_lightning/strategies/strategy.py\u001b[0m in \u001b[0;36mvalidation_step\u001b[0;34m(self, *args, **kwargs)\u001b[0m\n\u001b[1;32m    401\u001b[0m             \u001b[0;32mif\u001b[0m \u001b[0mself\u001b[0m\u001b[0;34m.\u001b[0m\u001b[0mmodel\u001b[0m \u001b[0;34m!=\u001b[0m \u001b[0mself\u001b[0m\u001b[0;34m.\u001b[0m\u001b[0mlightning_module\u001b[0m\u001b[0;34m:\u001b[0m\u001b[0;34m\u001b[0m\u001b[0;34m\u001b[0m\u001b[0m\n\u001b[1;32m    402\u001b[0m                 \u001b[0;32mreturn\u001b[0m \u001b[0mself\u001b[0m\u001b[0;34m.\u001b[0m\u001b[0m_forward_redirection\u001b[0m\u001b[0;34m(\u001b[0m\u001b[0mself\u001b[0m\u001b[0;34m.\u001b[0m\u001b[0mmodel\u001b[0m\u001b[0;34m,\u001b[0m \u001b[0mself\u001b[0m\u001b[0;34m.\u001b[0m\u001b[0mlightning_module\u001b[0m\u001b[0;34m,\u001b[0m \u001b[0;34m\"validation_step\"\u001b[0m\u001b[0;34m,\u001b[0m \u001b[0;34m*\u001b[0m\u001b[0margs\u001b[0m\u001b[0;34m,\u001b[0m \u001b[0;34m**\u001b[0m\u001b[0mkwargs\u001b[0m\u001b[0;34m)\u001b[0m\u001b[0;34m\u001b[0m\u001b[0;34m\u001b[0m\u001b[0m\n\u001b[0;32m--> 403\u001b[0;31m             \u001b[0;32mreturn\u001b[0m \u001b[0mself\u001b[0m\u001b[0;34m.\u001b[0m\u001b[0mlightning_module\u001b[0m\u001b[0;34m.\u001b[0m\u001b[0mvalidation_step\u001b[0m\u001b[0;34m(\u001b[0m\u001b[0;34m*\u001b[0m\u001b[0margs\u001b[0m\u001b[0;34m,\u001b[0m \u001b[0;34m**\u001b[0m\u001b[0mkwargs\u001b[0m\u001b[0;34m)\u001b[0m\u001b[0;34m\u001b[0m\u001b[0;34m\u001b[0m\u001b[0m\n\u001b[0m\u001b[1;32m    404\u001b[0m \u001b[0;34m\u001b[0m\u001b[0m\n\u001b[1;32m    405\u001b[0m     \u001b[0;32mdef\u001b[0m \u001b[0mtest_step\u001b[0m\u001b[0;34m(\u001b[0m\u001b[0mself\u001b[0m\u001b[0;34m,\u001b[0m \u001b[0;34m*\u001b[0m\u001b[0margs\u001b[0m\u001b[0;34m:\u001b[0m \u001b[0mAny\u001b[0m\u001b[0;34m,\u001b[0m \u001b[0;34m**\u001b[0m\u001b[0mkwargs\u001b[0m\u001b[0;34m:\u001b[0m \u001b[0mAny\u001b[0m\u001b[0;34m)\u001b[0m \u001b[0;34m->\u001b[0m \u001b[0mSTEP_OUTPUT\u001b[0m\u001b[0;34m:\u001b[0m\u001b[0;34m\u001b[0m\u001b[0;34m\u001b[0m\u001b[0m\n",
            "\u001b[0;32m<ipython-input-109-9f86d3bf31b4>\u001b[0m in \u001b[0;36mvalidation_step\u001b[0;34m(self, batch, batch_idx)\u001b[0m\n\u001b[1;32m     63\u001b[0m         \u001b[0;31m# TODO : Define your Validation Step\u001b[0m\u001b[0;34m\u001b[0m\u001b[0;34m\u001b[0m\u001b[0m\n\u001b[1;32m     64\u001b[0m         \u001b[0mX\u001b[0m\u001b[0;34m,\u001b[0m\u001b[0my\u001b[0m \u001b[0;34m=\u001b[0m \u001b[0mbatch\u001b[0m\u001b[0;34m[\u001b[0m\u001b[0;34m'input'\u001b[0m\u001b[0;34m]\u001b[0m\u001b[0;34m,\u001b[0m \u001b[0mbatch\u001b[0m\u001b[0;34m[\u001b[0m\u001b[0;34m'label'\u001b[0m\u001b[0;34m]\u001b[0m\u001b[0;34m\u001b[0m\u001b[0;34m\u001b[0m\u001b[0m\n\u001b[0;32m---> 65\u001b[0;31m         \u001b[0mout\u001b[0m \u001b[0;34m=\u001b[0m \u001b[0mself\u001b[0m\u001b[0;34m.\u001b[0m\u001b[0mforward\u001b[0m\u001b[0;34m(\u001b[0m\u001b[0mX\u001b[0m\u001b[0;34m)\u001b[0m\u001b[0;34m\u001b[0m\u001b[0;34m\u001b[0m\u001b[0m\n\u001b[0m\u001b[1;32m     66\u001b[0m         \u001b[0mloss\u001b[0m \u001b[0;34m=\u001b[0m \u001b[0mF\u001b[0m\u001b[0;34m.\u001b[0m\u001b[0mmse_loss\u001b[0m\u001b[0;34m(\u001b[0m\u001b[0mout\u001b[0m\u001b[0;34m,\u001b[0m \u001b[0my\u001b[0m\u001b[0;34m)\u001b[0m\u001b[0;34m\u001b[0m\u001b[0;34m\u001b[0m\u001b[0m\n\u001b[1;32m     67\u001b[0m         \u001b[0;31m# Don't remove the next line, you will understand why later\u001b[0m\u001b[0;34m\u001b[0m\u001b[0;34m\u001b[0m\u001b[0m\n",
            "\u001b[0;32m<ipython-input-109-9f86d3bf31b4>\u001b[0m in \u001b[0;36mforward\u001b[0;34m(self, x)\u001b[0m\n\u001b[1;32m     36\u001b[0m \u001b[0;34m\u001b[0m\u001b[0m\n\u001b[1;32m     37\u001b[0m         \u001b[0;31m# Concatenate x and time_vec along the batch dimension (dim=0)\u001b[0m\u001b[0;34m\u001b[0m\u001b[0;34m\u001b[0m\u001b[0m\n\u001b[0;32m---> 38\u001b[0;31m         \u001b[0mx\u001b[0m \u001b[0;34m=\u001b[0m \u001b[0mtorch\u001b[0m\u001b[0;34m.\u001b[0m\u001b[0mcat\u001b[0m\u001b[0;34m(\u001b[0m\u001b[0;34m(\u001b[0m\u001b[0mx\u001b[0m\u001b[0;34m,\u001b[0m \u001b[0mtime_vec\u001b[0m\u001b[0;34m)\u001b[0m\u001b[0;34m,\u001b[0m \u001b[0mdim\u001b[0m\u001b[0;34m=\u001b[0m\u001b[0;36m1\u001b[0m\u001b[0;34m)\u001b[0m  \u001b[0;31m# Concatenate along the feature dimension\u001b[0m\u001b[0;34m\u001b[0m\u001b[0;34m\u001b[0m\u001b[0m\n\u001b[0m\u001b[1;32m     39\u001b[0m \u001b[0;34m\u001b[0m\u001b[0m\n\u001b[1;32m     40\u001b[0m         \u001b[0mx\u001b[0m \u001b[0;34m=\u001b[0m \u001b[0mself\u001b[0m\u001b[0;34m.\u001b[0m\u001b[0mtransformer\u001b[0m\u001b[0;34m(\u001b[0m\u001b[0mx\u001b[0m\u001b[0;34m)\u001b[0m\u001b[0;34m\u001b[0m\u001b[0;34m\u001b[0m\u001b[0m\n",
            "\u001b[0;31mRuntimeError\u001b[0m: Tensors must have same number of dimensions: got 3 and 4"
          ]
        }
      ],
      "source": [
        "# TODO : Fit the Data to the Model\n",
        "trainer.fit(model, dm)"
      ]
    },
    {
      "cell_type": "markdown",
      "metadata": {
        "id": "_21I4eFCTqtH"
      },
      "source": [
        "## V - Testing the model : Inference\n",
        "\n",
        "Now that the model is trained, testing it is a key to become rich."
      ]
    },
    {
      "cell_type": "markdown",
      "metadata": {
        "id": "h70XsCUhZWdr"
      },
      "source": [
        "#### a - Testings\n",
        "\n",
        "Test the model on the test dataset.\n",
        "\n",
        "* What happens ?\n",
        "* What can we do to enhance the results ?\n",
        "* Will you deploy the model ?\n",
        "* What are your predictions for next week ? Can we invest or not ?\n",
        "\n",
        "**Illustrate your arguments using charts or any kind of visual materials supporting your analysis. Any non illustrated analysis won't be taken into account**"
      ]
    },
    {
      "cell_type": "code",
      "execution_count": null,
      "metadata": {
        "id": "2LemCOfzERLZ"
      },
      "outputs": [],
      "source": []
    },
    {
      "cell_type": "markdown",
      "metadata": {
        "id": "vtli_XCEZJL_"
      },
      "source": [
        "#### b - Further Testings\n",
        "\n",
        "Test the model on a different dataset.\n",
        "* What can you say ?\n",
        "* What are your predictions for next week ? Can we invest or not ?\n",
        "\n",
        "**Illustrate your arguments using charts or any kind of visual materials supporting your analysis. Any non illustrated analysis won't be taken into account**\n"
      ]
    },
    {
      "cell_type": "code",
      "execution_count": null,
      "metadata": {
        "id": "iZtp7Aq7ZS2m"
      },
      "outputs": [],
      "source": []
    }
  ],
  "metadata": {
    "accelerator": "GPU",
    "colab": {
      "provenance": []
    },
    "gpuClass": "standard",
    "kernelspec": {
      "display_name": "Python 3",
      "name": "python3"
    },
    "language_info": {
      "name": "python"
    },
    "widgets": {
      "application/vnd.jupyter.widget-state+json": {
        "03b0d16a10df499299605d96b9887b14": {
          "model_module": "@jupyter-widgets/controls",
          "model_module_version": "1.5.0",
          "model_name": "HTMLModel",
          "state": {
            "_dom_classes": [],
            "_model_module": "@jupyter-widgets/controls",
            "_model_module_version": "1.5.0",
            "_model_name": "HTMLModel",
            "_view_count": null,
            "_view_module": "@jupyter-widgets/controls",
            "_view_module_version": "1.5.0",
            "_view_name": "HTMLView",
            "description": "",
            "description_tooltip": null,
            "layout": "IPY_MODEL_a922b94310fd48bf8f03b2600ce17226",
            "placeholder": "​",
            "style": "IPY_MODEL_131ebbe7440d4158b1a9806ebba40cc0",
            "value": "Sanity Checking DataLoader 0:   0%"
          }
        },
        "131ebbe7440d4158b1a9806ebba40cc0": {
          "model_module": "@jupyter-widgets/controls",
          "model_module_version": "1.5.0",
          "model_name": "DescriptionStyleModel",
          "state": {
            "_model_module": "@jupyter-widgets/controls",
            "_model_module_version": "1.5.0",
            "_model_name": "DescriptionStyleModel",
            "_view_count": null,
            "_view_module": "@jupyter-widgets/base",
            "_view_module_version": "1.2.0",
            "_view_name": "StyleView",
            "description_width": ""
          }
        },
        "2aad90782b80420c8e25b1e98b7d0821": {
          "model_module": "@jupyter-widgets/controls",
          "model_module_version": "1.5.0",
          "model_name": "HBoxModel",
          "state": {
            "_dom_classes": [],
            "_model_module": "@jupyter-widgets/controls",
            "_model_module_version": "1.5.0",
            "_model_name": "HBoxModel",
            "_view_count": null,
            "_view_module": "@jupyter-widgets/controls",
            "_view_module_version": "1.5.0",
            "_view_name": "HBoxView",
            "box_style": "",
            "children": [
              "IPY_MODEL_03b0d16a10df499299605d96b9887b14",
              "IPY_MODEL_44369706426548b688b72d9bfe7f16a0",
              "IPY_MODEL_9ae20a2022a5410280abb627e493628a"
            ],
            "layout": "IPY_MODEL_6be4c68fbe7741cb810406e3c742df00"
          }
        },
        "32d7ff51711f4a3783858d4dd1755fb2": {
          "model_module": "@jupyter-widgets/controls",
          "model_module_version": "1.5.0",
          "model_name": "DescriptionStyleModel",
          "state": {
            "_model_module": "@jupyter-widgets/controls",
            "_model_module_version": "1.5.0",
            "_model_name": "DescriptionStyleModel",
            "_view_count": null,
            "_view_module": "@jupyter-widgets/base",
            "_view_module_version": "1.2.0",
            "_view_name": "StyleView",
            "description_width": ""
          }
        },
        "44369706426548b688b72d9bfe7f16a0": {
          "model_module": "@jupyter-widgets/controls",
          "model_module_version": "1.5.0",
          "model_name": "FloatProgressModel",
          "state": {
            "_dom_classes": [],
            "_model_module": "@jupyter-widgets/controls",
            "_model_module_version": "1.5.0",
            "_model_name": "FloatProgressModel",
            "_view_count": null,
            "_view_module": "@jupyter-widgets/controls",
            "_view_module_version": "1.5.0",
            "_view_name": "ProgressView",
            "bar_style": "",
            "description": "",
            "description_tooltip": null,
            "layout": "IPY_MODEL_e48073214c464c0a88fca292b86a9bee",
            "max": 1,
            "min": 0,
            "orientation": "horizontal",
            "style": "IPY_MODEL_a428528abbe146e5990a9d8aa6ca0c01",
            "value": 0
          }
        },
        "6be4c68fbe7741cb810406e3c742df00": {
          "model_module": "@jupyter-widgets/base",
          "model_module_version": "1.2.0",
          "model_name": "LayoutModel",
          "state": {
            "_model_module": "@jupyter-widgets/base",
            "_model_module_version": "1.2.0",
            "_model_name": "LayoutModel",
            "_view_count": null,
            "_view_module": "@jupyter-widgets/base",
            "_view_module_version": "1.2.0",
            "_view_name": "LayoutView",
            "align_content": null,
            "align_items": null,
            "align_self": null,
            "border": null,
            "bottom": null,
            "display": "inline-flex",
            "flex": null,
            "flex_flow": "row wrap",
            "grid_area": null,
            "grid_auto_columns": null,
            "grid_auto_flow": null,
            "grid_auto_rows": null,
            "grid_column": null,
            "grid_gap": null,
            "grid_row": null,
            "grid_template_areas": null,
            "grid_template_columns": null,
            "grid_template_rows": null,
            "height": null,
            "justify_content": null,
            "justify_items": null,
            "left": null,
            "margin": null,
            "max_height": null,
            "max_width": null,
            "min_height": null,
            "min_width": null,
            "object_fit": null,
            "object_position": null,
            "order": null,
            "overflow": null,
            "overflow_x": null,
            "overflow_y": null,
            "padding": null,
            "right": null,
            "top": null,
            "visibility": null,
            "width": "100%"
          }
        },
        "992bb60e75fc4e798ace70ed65542225": {
          "model_module": "@jupyter-widgets/base",
          "model_module_version": "1.2.0",
          "model_name": "LayoutModel",
          "state": {
            "_model_module": "@jupyter-widgets/base",
            "_model_module_version": "1.2.0",
            "_model_name": "LayoutModel",
            "_view_count": null,
            "_view_module": "@jupyter-widgets/base",
            "_view_module_version": "1.2.0",
            "_view_name": "LayoutView",
            "align_content": null,
            "align_items": null,
            "align_self": null,
            "border": null,
            "bottom": null,
            "display": null,
            "flex": null,
            "flex_flow": null,
            "grid_area": null,
            "grid_auto_columns": null,
            "grid_auto_flow": null,
            "grid_auto_rows": null,
            "grid_column": null,
            "grid_gap": null,
            "grid_row": null,
            "grid_template_areas": null,
            "grid_template_columns": null,
            "grid_template_rows": null,
            "height": null,
            "justify_content": null,
            "justify_items": null,
            "left": null,
            "margin": null,
            "max_height": null,
            "max_width": null,
            "min_height": null,
            "min_width": null,
            "object_fit": null,
            "object_position": null,
            "order": null,
            "overflow": null,
            "overflow_x": null,
            "overflow_y": null,
            "padding": null,
            "right": null,
            "top": null,
            "visibility": null,
            "width": null
          }
        },
        "9ae20a2022a5410280abb627e493628a": {
          "model_module": "@jupyter-widgets/controls",
          "model_module_version": "1.5.0",
          "model_name": "HTMLModel",
          "state": {
            "_dom_classes": [],
            "_model_module": "@jupyter-widgets/controls",
            "_model_module_version": "1.5.0",
            "_model_name": "HTMLModel",
            "_view_count": null,
            "_view_module": "@jupyter-widgets/controls",
            "_view_module_version": "1.5.0",
            "_view_name": "HTMLView",
            "description": "",
            "description_tooltip": null,
            "layout": "IPY_MODEL_992bb60e75fc4e798ace70ed65542225",
            "placeholder": "​",
            "style": "IPY_MODEL_32d7ff51711f4a3783858d4dd1755fb2",
            "value": " 0/1 [00:00&lt;?, ?it/s]"
          }
        },
        "a428528abbe146e5990a9d8aa6ca0c01": {
          "model_module": "@jupyter-widgets/controls",
          "model_module_version": "1.5.0",
          "model_name": "ProgressStyleModel",
          "state": {
            "_model_module": "@jupyter-widgets/controls",
            "_model_module_version": "1.5.0",
            "_model_name": "ProgressStyleModel",
            "_view_count": null,
            "_view_module": "@jupyter-widgets/base",
            "_view_module_version": "1.2.0",
            "_view_name": "StyleView",
            "bar_color": null,
            "description_width": ""
          }
        },
        "a922b94310fd48bf8f03b2600ce17226": {
          "model_module": "@jupyter-widgets/base",
          "model_module_version": "1.2.0",
          "model_name": "LayoutModel",
          "state": {
            "_model_module": "@jupyter-widgets/base",
            "_model_module_version": "1.2.0",
            "_model_name": "LayoutModel",
            "_view_count": null,
            "_view_module": "@jupyter-widgets/base",
            "_view_module_version": "1.2.0",
            "_view_name": "LayoutView",
            "align_content": null,
            "align_items": null,
            "align_self": null,
            "border": null,
            "bottom": null,
            "display": null,
            "flex": null,
            "flex_flow": null,
            "grid_area": null,
            "grid_auto_columns": null,
            "grid_auto_flow": null,
            "grid_auto_rows": null,
            "grid_column": null,
            "grid_gap": null,
            "grid_row": null,
            "grid_template_areas": null,
            "grid_template_columns": null,
            "grid_template_rows": null,
            "height": null,
            "justify_content": null,
            "justify_items": null,
            "left": null,
            "margin": null,
            "max_height": null,
            "max_width": null,
            "min_height": null,
            "min_width": null,
            "object_fit": null,
            "object_position": null,
            "order": null,
            "overflow": null,
            "overflow_x": null,
            "overflow_y": null,
            "padding": null,
            "right": null,
            "top": null,
            "visibility": null,
            "width": null
          }
        },
        "e48073214c464c0a88fca292b86a9bee": {
          "model_module": "@jupyter-widgets/base",
          "model_module_version": "1.2.0",
          "model_name": "LayoutModel",
          "state": {
            "_model_module": "@jupyter-widgets/base",
            "_model_module_version": "1.2.0",
            "_model_name": "LayoutModel",
            "_view_count": null,
            "_view_module": "@jupyter-widgets/base",
            "_view_module_version": "1.2.0",
            "_view_name": "LayoutView",
            "align_content": null,
            "align_items": null,
            "align_self": null,
            "border": null,
            "bottom": null,
            "display": null,
            "flex": "2",
            "flex_flow": null,
            "grid_area": null,
            "grid_auto_columns": null,
            "grid_auto_flow": null,
            "grid_auto_rows": null,
            "grid_column": null,
            "grid_gap": null,
            "grid_row": null,
            "grid_template_areas": null,
            "grid_template_columns": null,
            "grid_template_rows": null,
            "height": null,
            "justify_content": null,
            "justify_items": null,
            "left": null,
            "margin": null,
            "max_height": null,
            "max_width": null,
            "min_height": null,
            "min_width": null,
            "object_fit": null,
            "object_position": null,
            "order": null,
            "overflow": null,
            "overflow_x": null,
            "overflow_y": null,
            "padding": null,
            "right": null,
            "top": null,
            "visibility": null,
            "width": null
          }
        }
      }
    }
  },
  "nbformat": 4,
  "nbformat_minor": 0
}